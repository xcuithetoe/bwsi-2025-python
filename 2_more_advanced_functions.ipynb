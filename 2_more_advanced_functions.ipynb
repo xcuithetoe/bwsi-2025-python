{
 "cells": [
  {
   "cell_type": "markdown",
   "metadata": {},
   "source": [
    "# Functions: More Advanced Functions\n",
    "Please complete this assignment with your small group. Discussion is encouraged and a completed version is due before the next class."
   ]
  },
  {
   "cell_type": "markdown",
   "metadata": {},
   "source": [
    "## Returning Different Values Based on Conditions"
   ]
  },
  {
   "cell_type": "markdown",
   "metadata": {},
   "source": [
    "### Multiple Return Statements vs. Multiple Assignment Statements\n",
    "\n",
    "When we have a function with conditions, we want to return something different depending on what condition(s) are met. This can be done by assigning one variable different values or we can have multiple return statements.\n",
    "\n",
    "This example checks if the input is of type `list`. It creates an empty string called `result`, and depending on the input type, we assign a different message to `result`. Then, we return `result`."
   ]
  },
  {
   "cell_type": "code",
   "execution_count": 3,
   "metadata": {},
   "outputs": [
    {
     "name": "stdout",
     "output_type": "stream",
     "text": [
      "my_list is a list\n",
      "Input must be of type list\n",
      "Input must be of type list\n"
     ]
    }
   ],
   "source": [
    "def check_var_is_list(my_list):\n",
    "    \"\"\"Check if variable is a list.\"\"\"\n",
    "    result = \"\"                                 # Create an empty result string\n",
    "    if type(my_list) ==  list:                  # If input is type list, set result message\n",
    "        result = \"my_list is a list\"\n",
    "    else:                                       # If input is not type list, set result message\n",
    "        result = \"Input must be of type list\"\n",
    "    return result                               # Return the result\n",
    "\n",
    "print(check_var_is_list([1, 2, 3]))\n",
    "print(check_var_is_list(2))\n",
    "print(check_var_is_list(\"hello\"))\n"
   ]
  },
  {
   "cell_type": "markdown",
   "metadata": {},
   "source": [
    "Let's see how we can accomplish this task with multiple return statements instead. Below, we have the same function with the same conditional statements. But instead of having a `result` variable, we immediately return a string based on the conditions. Note that we exit the function right after we execute a return statement."
   ]
  },
  {
   "cell_type": "code",
   "execution_count": 15,
   "metadata": {},
   "outputs": [
    {
     "name": "stdout",
     "output_type": "stream",
     "text": [
      "my_list is a list\n",
      "Input must be of type list\n",
      "Input must be of type list\n"
     ]
    }
   ],
   "source": [
    "def check_var_is_list(my_list):\n",
    "    \"\"\"Check if variable is a list.\"\"\"\n",
    "    if type(my_list) == list:                   # Check if input is type list.\n",
    "        return \"my_list is a list\"              # Return message that type is list.\n",
    "    return \"Input must be of type list\"         # If we reach this code, return message that type is NOT list.\n",
    "    \n",
    "print(check_var_is_list([1, 2, 3]))\n",
    "print(check_var_is_list(2))\n",
    "print(check_var_is_list(\"hello\"))"
   ]
  },
  {
   "cell_type": "markdown",
   "metadata": {},
   "source": [
    "What happens if we don't have a return statement? Below are three example test functions, all of which will return a value of `None`. Make sure your return statements are only returning `None` when you want them to!"
   ]
  },
  {
   "cell_type": "code",
   "execution_count": 16,
   "metadata": {},
   "outputs": [
    {
     "name": "stdout",
     "output_type": "stream",
     "text": [
      "None\n",
      "None\n",
      "None\n",
      "None\n"
     ]
    }
   ],
   "source": [
    "def test1():        # The return statement does not have any specified value to return\n",
    "    return\n",
    "\n",
    "def test2(input):   # The condition is not met, so the return statement is not executed\n",
    "    if input == 1:\n",
    "        return 1 + 1\n",
    "\n",
    "def test3():        # The return statement explicity returns \"None\"\n",
    "    return None\n",
    "\n",
    "def test4():        # There is no return statement at all\n",
    "    x = 3\n",
    "\n",
    "print(test1())\n",
    "print(test2(2))\n",
    "print(test3())\n",
    "print(test4())"
   ]
  },
  {
   "cell_type": "markdown",
   "metadata": {},
   "source": [
    "### Q1. Converting different units of time to seconds using multiple return statements\n",
    "\n",
    "We want to write an extended version of `convert_time_to_sec`, where the user can input an integer for `time` and a string for `units`, and the function will output the correct conversion to seconds. The general function is outlined below. \n",
    "\n",
    "Please put your `return` statements within the conditional statements like we saw in the second version of `check_var_is_list`!"
   ]
  },
  {
   "cell_type": "code",
   "execution_count": 17,
   "metadata": {},
   "outputs": [],
   "source": [
    "def convert_time_to_sec(time, units):\n",
    "    \"\"\"Convert time from given units to seconds.\"\"\"\n",
    "    # if the units are minutes, return the appropriate value.\n",
    "    # if the units are hours, return the appropriate value.\n",
    "    # include a \"default\" case where we assume input time is already in seconds.\n",
    "    pass"
   ]
  },
  {
   "cell_type": "code",
   "execution_count": 18,
   "metadata": {},
   "outputs": [
    {
     "name": "stdout",
     "output_type": "stream",
     "text": [
      "None\n",
      "None\n",
      "None\n"
     ]
    }
   ],
   "source": [
    "# Test your function:\n",
    "print(convert_time_to_sec(10, 'min'))       # Expected output: 600\n",
    "print(convert_time_to_sec(2, 'hours'))      # Expected output: 7200\n",
    "print(convert_time_to_sec(45, ''))          # Expected output: 45"
   ]
  },
  {
   "cell_type": "markdown",
   "metadata": {},
   "source": [
    "## Recursive Functions"
   ]
  },
  {
   "cell_type": "markdown",
   "metadata": {},
   "source": [
    "\n",
    "Recursion describes anything that references itself either in its definition or function. In programming, recursive functions are functions that 'call' themselves. To write a recursive function, the function  calls itself within its function definition. \n",
    "\n",
    "For example:"
   ]
  },
  {
   "cell_type": "code",
   "execution_count": 28,
   "metadata": {},
   "outputs": [],
   "source": [
    "def my_recursive_function(a=1,b=1):\n",
    "    \"\"\"Print Fibonacci sequence until a > 20.\"\"\"\n",
    "    print(a,b)\n",
    "    a += b\n",
    "    b += a\n",
    "    if a > 20:\n",
    "        return (0,0)\n",
    "    a,b = my_recursive_function(a,b)\n",
    "    return (a,b)"
   ]
  },
  {
   "cell_type": "markdown",
   "metadata": {},
   "source": [
    "This function generates the Fibonacci sequence until it gets over 20, then exits the function and returns (0,0).\n"
   ]
  },
  {
   "cell_type": "code",
   "execution_count": 29,
   "metadata": {},
   "outputs": [
    {
     "name": "stdout",
     "output_type": "stream",
     "text": [
      "1 1\n",
      "2 3\n",
      "5 8\n",
      "13 21\n"
     ]
    },
    {
     "data": {
      "text/plain": [
       "(0, 0)"
      ]
     },
     "execution_count": 29,
     "metadata": {},
     "output_type": "execute_result"
    }
   ],
   "source": [
    "my_recursive_function()"
   ]
  },
  {
   "cell_type": "markdown",
   "metadata": {},
   "source": [
    "Recursion is used in extremely few cases. It is far less efficient than iteration and much harder to fix if it breaks. The cases in which you would use them are data structures that have fractal characteristics, like linked lists, server web data, or trees. Although recursion has few use cases, it provides an deep insight into what functions are and how they can be used."
   ]
  },
  {
   "cell_type": "markdown",
   "metadata": {},
   "source": [
    "Here's another example of a recursive function. Note the succesive string slicing."
   ]
  },
  {
   "cell_type": "code",
   "execution_count": 20,
   "metadata": {},
   "outputs": [],
   "source": [
    "def resum(numbers, recursion_level = 0):\n",
    "    \"\"\"Recursively sum all numbers in list.\"\"\"\n",
    "    print('\\nRecursion level: ' + str(recursion_level))\n",
    "    print(numbers)\n",
    "    if len(numbers) == 0:\n",
    "        return 0\n",
    "    return numbers[0] + resum(numbers[1:], recursion_level+1)"
   ]
  },
  {
   "cell_type": "code",
   "execution_count": 21,
   "metadata": {},
   "outputs": [
    {
     "name": "stdout",
     "output_type": "stream",
     "text": [
      "\n",
      "Recursion level: 0\n",
      "[1, 2, 3, 4]\n",
      "\n",
      "Recursion level: 1\n",
      "[2, 3, 4]\n",
      "\n",
      "Recursion level: 2\n",
      "[3, 4]\n",
      "\n",
      "Recursion level: 3\n",
      "[4]\n",
      "\n",
      "Recursion level: 4\n",
      "[]\n"
     ]
    },
    {
     "data": {
      "text/plain": [
       "10"
      ]
     },
     "execution_count": 21,
     "metadata": {},
     "output_type": "execute_result"
    }
   ],
   "source": [
    "nums = [1,2,3,4]\n",
    "resum(nums)"
   ]
  },
  {
   "cell_type": "markdown",
   "metadata": {},
   "source": [
    "### Q.2 Please write a recursive function `my_recursive_function` that prints from 0 to 5:"
   ]
  },
  {
   "cell_type": "code",
   "execution_count": null,
   "metadata": {},
   "outputs": [],
   "source": [
    "def my_recursive_function(number = 0):\n",
    "    \"\"\"YOUR DOCSTRING HERE.\"\"\"\n",
    "    # YOUR CODE HERE\n",
    "    pass"
   ]
  },
  {
   "cell_type": "code",
   "execution_count": 11,
   "metadata": {},
   "outputs": [],
   "source": [
    "my_recursive_function()"
   ]
  },
  {
   "cell_type": "markdown",
   "metadata": {},
   "source": [
    "### Q.3 Please write a recursive function that unpacks this list structure so that it can print `'Bird'` without the brackets:"
   ]
  },
  {
   "cell_type": "code",
   "execution_count": null,
   "metadata": {},
   "outputs": [],
   "source": [
    "nested_list = [[[['Bird']]]]\n",
    "def unpack_list(nested_list):\n",
    "    \"\"\"YOUR DOCSTRING HERE.\"\"\"\n",
    "    # YOUR CODE HERE\n",
    "    pass"
   ]
  },
  {
   "cell_type": "code",
   "execution_count": 13,
   "metadata": {},
   "outputs": [],
   "source": [
    "unpack_list(nested_list)"
   ]
  },
  {
   "cell_type": "code",
   "execution_count": 1,
   "metadata": {},
   "outputs": [],
   "source": [
    "# Option A\n",
    "def option_a(list_of_ints):\n",
    "    even_ints = []\n",
    "    odd_ints = []\n",
    "    for i in list_of_ints:\n",
    "        if i % 2 == 0:\n",
    "            even_ints.append(i)\n",
    "        elif i % 2 == 1:\n",
    "            odd_ints.append(i)\n",
    "        else:\n",
    "            pass\n",
    "    return even_ints + odd_ints\n",
    "\t\n",
    "# Option B\n",
    "def option_b(list_of_ints):\n",
    "    even_ints = [i for i in list_of_ints if i % 2 == 0]\n",
    "    odd_ints = [i for i in list_of_ints if i % 2 == 1]\n",
    "    even_odd = even_ints + odd_ints\n",
    "\n",
    "# Option C\n",
    "def option_c(list_of_ints):\n",
    "    even_ints = [0]\n",
    "    odd_ints = [1]\n",
    "    for i in list_of_ints:\n",
    "        if i % 2 == 0:\n",
    "            even_ints[-1] = i\n",
    "        if i % 2 == 1:\n",
    "            odd_ints[-1] = i\n",
    "    even_ints.extend(odd_ints)\n",
    "    return even_ints\n",
    "\n",
    "# Option D\n",
    "def option_d(list_of_ints):\n",
    "    even_ints = []\n",
    "    odd_ints = []\n",
    "    for i in list_of_ints:\n",
    "        if i % 2 == 0:\n",
    "            even_ints.extend([i])\n",
    "        if i % 2 == 1:\n",
    "            odd_ints.extend([i])\n",
    "    return even_ints.extend(odd_ints)\n",
    "\n",
    "# Option E\n",
    "def option_e(list_of_ints):\n",
    "    return [i for i in list_of_ints if i % 2 == 0] + [i for i in list_of_ints if i % 2 == 1]"
   ]
  },
  {
   "cell_type": "code",
   "execution_count": 2,
   "metadata": {},
   "outputs": [
    {
     "name": "stdout",
     "output_type": "stream",
     "text": [
      "[2, 4, 6, 1, 3, 5]\n",
      "None\n",
      "[6, 5]\n",
      "None\n",
      "[2, 4, 6, 1, 3, 5]\n"
     ]
    }
   ],
   "source": [
    "inp = range(1, 7)\n",
    "print(option_a(inp))\n",
    "print(option_b(inp))\n",
    "print(option_c(inp))\n",
    "print(option_d(inp))\n",
    "print(option_e(inp))"
   ]
  },
  {
   "cell_type": "code",
   "execution_count": 5,
   "metadata": {},
   "outputs": [
    {
     "name": "stdout",
     "output_type": "stream",
     "text": [
      "2 1\n",
      "2 1\n",
      "2 1\n"
     ]
    }
   ],
   "source": [
    "list_of_ints = range(1,3)\n",
    "\n",
    "# Option A\n",
    "x,y = option_a(list_of_ints)\n",
    "print(x, y)\n",
    "# Option B\n",
    "#x,y = option_b(list_of_ints)\n",
    "#print(x, y)\n",
    "# Option C\n",
    "[x,y] = option_c(list_of_ints)\n",
    "print(x, y)\n",
    "# Option D\n",
    "#[x,y] = option_d(list_of_ints)\n",
    "#print(x, y)\n",
    "# Option E\n",
    "z = option_e(list_of_ints)\n",
    "x,y = z\n",
    "print(x, y)"
   ]
  }
 ],
 "metadata": {
  "kernelspec": {
   "display_name": "Python 3",
   "language": "python",
   "name": "python3"
  },
  "language_info": {
   "codemirror_mode": {
    "name": "ipython",
    "version": 3
   },
   "file_extension": ".py",
   "mimetype": "text/x-python",
   "name": "python",
   "nbconvert_exporter": "python",
   "pygments_lexer": "ipython3",
   "version": "3.10.11"
  }
 },
 "nbformat": 4,
 "nbformat_minor": 2
}
