{
 "cells": [
  {
   "cell_type": "markdown",
   "metadata": {},
   "source": [
    "# NumPy Fundamentals: Array Basics"
   ]
  },
  {
   "cell_type": "markdown",
   "metadata": {},
   "source": [
    "Until now, we have focused on Python basics and built-in functions. In order to access specific packages, like NumPy, we need to import them like so:"
   ]
  },
  {
   "cell_type": "code",
   "execution_count": 1,
   "metadata": {},
   "outputs": [],
   "source": [
    "# import the numpy as the shorthand np\n",
    "import numpy as np"
   ]
  },
  {
   "cell_type": "markdown",
   "metadata": {},
   "source": [
    "Using a standardized alias like `np` saves us a little bit of time later."
   ]
  },
  {
   "cell_type": "markdown",
   "metadata": {},
   "source": [
    "## NumPy Arrays\n",
    "The most basic data structure in NumPy is an `ndarray`. \n",
    "The name `ndarray` comes from the fact that they can store \"n dimensions\" of data.\n",
    "\n",
    "Lastly, arrays are similar to lists in that they can be indexed with the same syntax; however, unlike lists, NumPy arrays must contain homogenous data types. \n",
    "\n",
    "Let's start by defining a simple 1D array, which can also be referred to as a vector:"
   ]
  },
  {
   "cell_type": "code",
   "execution_count": 4,
   "metadata": {},
   "outputs": [
    {
     "name": "stdout",
     "output_type": "stream",
     "text": [
      "[1, 2, 3, 4] <class 'list'>\n",
      "[1 2 3 4] <class 'numpy.ndarray'>\n"
     ]
    }
   ],
   "source": [
    "# Create a vector from a list\n",
    "my_list = [1,2,3,4]\n",
    "my_vector = np.array(my_list)\n",
    "print(my_list, type(my_list))\n",
    "print(my_vector, type(my_vector))"
   ]
  },
  {
   "cell_type": "markdown",
   "metadata": {},
   "source": [
    "Using what we learned from Module 1, we can index the list and the vector exactly the same way:"
   ]
  },
  {
   "cell_type": "code",
   "execution_count": 5,
   "metadata": {},
   "outputs": [
    {
     "name": "stdout",
     "output_type": "stream",
     "text": [
      "The first element of the list: 1\n",
      "The first element of the vector: 1\n"
     ]
    }
   ],
   "source": [
    "# Index the first elements:\n",
    "print(f\"The first element of the list: { my_list[0] }\")\n",
    "print(f\"The first element of the vector: { my_vector[0] }\")"
   ]
  },
  {
   "cell_type": "markdown",
   "metadata": {},
   "source": [
    "Using numpy arrays, we can make two dimensional arrays. This will look like a list *of* lists. The syntax for slicing should look familiar from indexing lists and tuples--using square brackets indexes the variable."
   ]
  },
  {
   "cell_type": "code",
   "execution_count": 6,
   "metadata": {},
   "outputs": [
    {
     "name": "stdout",
     "output_type": "stream",
     "text": [
      "2D array: \n",
      "[[5 6 7]\n",
      " [7 8 9]]\n",
      "\n",
      "Slice of 2D array: \n",
      "[8 9]\n"
     ]
    }
   ],
   "source": [
    "my_2d_array = np.array([[5,6,7], [7,8,9]])\n",
    "print(f\"2D array: \\n{my_2d_array}\\n\")\n",
    "print(f\"Slice of 2D array: \\n{my_2d_array[1][1:3]}\")\n"
   ]
  },
  {
   "cell_type": "markdown",
   "metadata": {},
   "source": [
    "We can also use indexing reassign new values as we would with lists:"
   ]
  },
  {
   "cell_type": "code",
   "execution_count": 12,
   "metadata": {},
   "outputs": [
    {
     "name": "stdout",
     "output_type": "stream",
     "text": [
      "[[5 6 7]\n",
      " [7 0 9]]\n"
     ]
    }
   ],
   "source": [
    "my_2d_array[1][1] = 0\n",
    "print(my_2d_array)"
   ]
  },
  {
   "cell_type": "markdown",
   "metadata": {},
   "source": [
    "Similarly, we can index and reassign indices in 3d arrays:"
   ]
  },
  {
   "cell_type": "code",
   "execution_count": 13,
   "metadata": {},
   "outputs": [
    {
     "name": "stdout",
     "output_type": "stream",
     "text": [
      "3D array: \n",
      "[[[ 9 10]\n",
      "  [11 12]]\n",
      "\n",
      " [[13 14]\n",
      "  [15 16]]]\n",
      "\n",
      "Slice of 3D array: \n",
      "12\n",
      "\n",
      "New 3D array: \n",
      "[[[ 9 10]\n",
      "  [11 12]]\n",
      "\n",
      " [[13 14]\n",
      "  [ 5 16]]]\n"
     ]
    }
   ],
   "source": [
    "my_3d_array = np.array([[[9,10], [11,12]], [[13,14], [15,16]]])\n",
    "print(f\"3D array: \\n{my_3d_array}\\n\")\n",
    "print(f\"Slice of 3D array: \\n{my_3d_array[0][1][1]}\\n\")\n",
    "my_3d_array[1][1][0] = 5\n",
    "print(f\"New 3D array: \\n{my_3d_array}\")"
   ]
  },
  {
   "cell_type": "markdown",
   "metadata": {},
   "source": [
    "## Array Arithmetic"
   ]
  },
  {
   "cell_type": "markdown",
   "metadata": {},
   "source": [
    "We will use the following arrays `u` and `v` for demonstration purposes."
   ]
  },
  {
   "cell_type": "code",
   "execution_count": 14,
   "metadata": {},
   "outputs": [],
   "source": [
    "u = np.array([1,2,3])\n",
    "v = np.array([5,10,15])"
   ]
  },
  {
   "cell_type": "markdown",
   "metadata": {},
   "source": [
    "NumPy arrays behave much like vectors do in calculus.\n",
    "\n",
    "We can do simple operations such as scalar multiplication, where the scalar number is multiplied into each element of the array.\n",
    "\n",
    "If we multiply `u` by the scalar value `3`, we should get a result of `[3,6,9]`. Let's check!"
   ]
  },
  {
   "cell_type": "code",
   "execution_count": 15,
   "metadata": {},
   "outputs": [
    {
     "name": "stdout",
     "output_type": "stream",
     "text": [
      "[3 6 9]\n"
     ]
    }
   ],
   "source": [
    "print(u * 3)"
   ]
  },
  {
   "cell_type": "markdown",
   "metadata": {},
   "source": [
    "Many other scalar/vector operations are supported as well, such as addition, subtraction, division, etc."
   ]
  },
  {
   "cell_type": "code",
   "execution_count": 16,
   "metadata": {},
   "outputs": [
    {
     "name": "stdout",
     "output_type": "stream",
     "text": [
      "[3 4 5]\n",
      "[-1  0  1]\n",
      "[0.5 1.  1.5]\n"
     ]
    }
   ],
   "source": [
    "print(u + 2)\n",
    "print(u - 2)\n",
    "print(u / 2)"
   ]
  },
  {
   "cell_type": "markdown",
   "metadata": {},
   "source": [
    "NumPy offers methods for the following arithmetic operations, which perform their operations *element-wise*. This means the operation is done between the elements in coresponding indices.\n",
    "\n",
    "| Element-wise Operation | Operator | Built-in |\n",
    "|------------------------|----------|----------|\n",
    "| Addition | `+` | `add()` |\n",
    "| Subtraction | `-` | `subtract()` |\n",
    "| Multiplication | `*` | `multiply()` |\n",
    "| Division | `/` | `divide()` |\n",
    "| Exponentiation | `**` | `power()` |\n",
    "| Modulus | `%` | `mod()` |"
   ]
  },
  {
   "cell_type": "code",
   "execution_count": 20,
   "metadata": {},
   "outputs": [
    {
     "name": "stdout",
     "output_type": "stream",
     "text": [
      "[ 5 20 45]\n",
      "[1 4 9]\n",
      "[1 4 9]\n",
      "[5. 5. 5.]\n",
      "[0 0 0]\n"
     ]
    }
   ],
   "source": [
    "print(u * v)\n",
    "\n",
    "print(u * u)\n",
    "print(u**2)\n",
    "\n",
    "print(v / u)\n",
    "\n",
    "print(v % u)"
   ]
  },
  {
   "cell_type": "markdown",
   "metadata": {},
   "source": [
    "## Common Array Constructors"
   ]
  },
  {
   "cell_type": "markdown",
   "metadata": {},
   "source": [
    "There are many ways to create an array in NumPy. These functions are called constructors and are often offered as *convenience* methods to make common ways of constructing an array easier.\n",
    "\n",
    "In general, these constructors will have 2 important parameters, `shape` and `dtype=float`. `shape` must be defined by the user but `dtype` usually defaults to `float`. This second parameter defines the datatype that will be used in construction of the elements of the array."
   ]
  },
  {
   "cell_type": "markdown",
   "metadata": {},
   "source": [
    "`np.zeros(shape)` and `np.ones(shape)` will create arrays with zeros or ones respectivly as elements."
   ]
  },
  {
   "cell_type": "code",
   "execution_count": 24,
   "metadata": {},
   "outputs": [
    {
     "name": "stdout",
     "output_type": "stream",
     "text": [
      "[0. 0. 0. 0.]\n",
      "[1. 1. 1. 1.]\n"
     ]
    }
   ],
   "source": [
    "print(np.zeros(4))\n",
    "print(np.ones(4))"
   ]
  },
  {
   "cell_type": "markdown",
   "metadata": {},
   "source": [
    "`np.full(shape,fill_value)` is similar in function to zeros and ones but will fill each element with `fill_value` rather than a 0 or 1.\n",
    "\n",
    "This is a great constructor for filling arrays with non-standard values such as `np.nan` (which we will discuss below)."
   ]
  },
  {
   "cell_type": "code",
   "execution_count": 25,
   "metadata": {},
   "outputs": [
    {
     "name": "stdout",
     "output_type": "stream",
     "text": [
      "[156 156 156 156 156 156]\n",
      "[nan nan nan]\n"
     ]
    }
   ],
   "source": [
    "print(np.full(6,156))\n",
    "\n",
    "print(np.full(3,np.nan))"
   ]
  },
  {
   "cell_type": "markdown",
   "metadata": {},
   "source": [
    "`np.tile(A,reps)` will create a single array by repeating an array `A` a number of times specified by `reps`."
   ]
  },
  {
   "cell_type": "code",
   "execution_count": 26,
   "metadata": {},
   "outputs": [
    {
     "name": "stdout",
     "output_type": "stream",
     "text": [
      "[1 2 3 1 2 3 1 2 3 1 2 3 1 2 3]\n"
     ]
    }
   ],
   "source": [
    "print(np.tile(u,5))"
   ]
  },
  {
   "cell_type": "markdown",
   "metadata": {},
   "source": [
    "`np.identity(n)` is a function that creates a square matrix of length n where the central diagonal elements are 1 and all others are 0.\n",
    "\n",
    "Crossing a matrix by an identity matrix is the equvalent of multiplying by 1."
   ]
  },
  {
   "cell_type": "code",
   "execution_count": 30,
   "metadata": {},
   "outputs": [
    {
     "name": "stdout",
     "output_type": "stream",
     "text": [
      "[[1. 0. 0.]\n",
      " [0. 1. 0.]\n",
      " [0. 0. 1.]]\n"
     ]
    }
   ],
   "source": [
    "print(np.identity(3))"
   ]
  },
  {
   "cell_type": "markdown",
   "metadata": {},
   "source": [
    "`np.empty()` will return an array with uninitialized, arbitrary, entries. This is usually faster than `np.zeros()` or `np.ones()`.\n",
    "\n",
    "The elements are arbitrary, holding no meaning and should be assigned before reading for reproducible behavior."
   ]
  },
  {
   "cell_type": "code",
   "execution_count": 31,
   "metadata": {},
   "outputs": [
    {
     "data": {
      "text/plain": [
       "array([2.05833592e-312, 2.33419537e-312])"
      ]
     },
     "execution_count": 31,
     "metadata": {},
     "output_type": "execute_result"
    }
   ],
   "source": [
    "np.empty(2)"
   ]
  },
  {
   "cell_type": "markdown",
   "metadata": {},
   "source": [
    "`np.nan` is a constant value meaning \"Not a Number.\"\n",
    "\n",
    "NumPy, being an arithmatic package, uses `nan` to represent values that are undefined such as 0/0.\n",
    "\n",
    "Given that nan occurs when math \"doesn't work\", python will often return warnings. These are not failures."
   ]
  },
  {
   "cell_type": "code",
   "execution_count": 33,
   "metadata": {},
   "outputs": [
    {
     "name": "stdout",
     "output_type": "stream",
     "text": [
      "nan\n",
      "nan\n",
      "[nan]\n"
     ]
    },
    {
     "name": "stderr",
     "output_type": "stream",
     "text": [
      "/var/folders/pk/x5dzzh655_bd639gmjctrt5r0000gn/T/ipykernel_91031/3292242688.py:3: RuntimeWarning: invalid value encountered in log\n",
      "  print(np.log(-1))\n",
      "/var/folders/pk/x5dzzh655_bd639gmjctrt5r0000gn/T/ipykernel_91031/3292242688.py:5: RuntimeWarning: invalid value encountered in divide\n",
      "  print(np.array([0]) / 0)\n"
     ]
    }
   ],
   "source": [
    "print(np.nan)\n",
    "\n",
    "print(np.log(-1))\n",
    "\n",
    "print(np.array([0]) / 0)"
   ]
  },
  {
   "cell_type": "markdown",
   "metadata": {},
   "source": [
    "Another common need for arrays is to create a list starting from one value and ending at another.\n",
    "\n",
    "`np.linspace(start,stop,num)` *linearly spaced elements* will create an array with `num` evenly spaced numbers from `start` to `stop`. This is best used when you know exactly how many elements you want but might not know what the start and stop is."
   ]
  },
  {
   "cell_type": "code",
   "execution_count": 34,
   "metadata": {},
   "outputs": [
    {
     "name": "stdout",
     "output_type": "stream",
     "text": [
      "[1. 2. 3. 4. 5.]\n",
      "[30.         30.40816327 30.81632653 31.2244898  31.63265306 32.04081633\n",
      " 32.44897959 32.85714286 33.26530612 33.67346939 34.08163265 34.48979592\n",
      " 34.89795918 35.30612245 35.71428571 36.12244898 36.53061224 36.93877551\n",
      " 37.34693878 37.75510204 38.16326531 38.57142857 38.97959184 39.3877551\n",
      " 39.79591837 40.20408163 40.6122449  41.02040816 41.42857143 41.83673469\n",
      " 42.24489796 42.65306122 43.06122449 43.46938776 43.87755102 44.28571429\n",
      " 44.69387755 45.10204082 45.51020408 45.91836735 46.32653061 46.73469388\n",
      " 47.14285714 47.55102041 47.95918367 48.36734694 48.7755102  49.18367347\n",
      " 49.59183673 50.        ]\n"
     ]
    }
   ],
   "source": [
    "# using linspace with start, stop, and number of elements\n",
    "print(np.linspace(1,5,5))\n",
    "\n",
    "# using linspace without number of elements\n",
    "random_start_val = 30\n",
    "random_stop_val = 50\n",
    "print(np.linspace(random_start_val, random_stop_val))"
   ]
  },
  {
   "cell_type": "markdown",
   "metadata": {},
   "source": [
    "`np.arange()` will create an array from `start` to `stop` with set `step` size.\n",
    "\n",
    "Note: `np.arange` returns integers if the inputs are integers!"
   ]
  },
  {
   "cell_type": "code",
   "execution_count": 47,
   "metadata": {},
   "outputs": [
    {
     "name": "stdout",
     "output_type": "stream",
     "text": [
      "[1 3 5]\n"
     ]
    }
   ],
   "source": [
    "print(np.arange(1,6,2))"
   ]
  },
  {
   "cell_type": "markdown",
   "metadata": {},
   "source": [
    "`range(start,stop,step)` will create an object that will produce a range of values from `start`(inclusive) to `stop`(exclusive) with `step`. This is useful in for loops."
   ]
  },
  {
   "cell_type": "code",
   "execution_count": 36,
   "metadata": {},
   "outputs": [
    {
     "name": "stdout",
     "output_type": "stream",
     "text": [
      "range(1, 9)\n",
      "0\n",
      "2\n",
      "4\n",
      "6\n",
      "8\n"
     ]
    }
   ],
   "source": [
    "print(range(1,9,1))\n",
    "\n",
    "for i in range(0,10,2):\n",
    "    print(i)"
   ]
  },
  {
   "cell_type": "markdown",
   "metadata": {},
   "source": [
    "## Determining Matrix Size"
   ]
  },
  {
   "cell_type": "markdown",
   "metadata": {},
   "source": [
    "It's very common to need the the number of elements in a list or array when programming. In Python, the words length, size, and shape all have different meanings!\n",
    "\n",
    "The `len` function in Python is short for \"length\" and returns the number of items in a list. \n",
    "\n",
    "Let's see a quick example using our list from earlier: "
   ]
  },
  {
   "cell_type": "code",
   "execution_count": 37,
   "metadata": {},
   "outputs": [
    {
     "name": "stdout",
     "output_type": "stream",
     "text": [
      " The list \n",
      " [1, 2, 3, 4] \n",
      " has 4 elements\n"
     ]
    }
   ],
   "source": [
    "my_list_length = len(my_list)\n",
    "print(f\" The list \\n {my_list} \\n has {my_list_length} elements\")"
   ]
  },
  {
   "cell_type": "markdown",
   "metadata": {},
   "source": [
    "The `len` function works the same way for both lists and vectors like `my_vector`, which is represented by a 1D matrix.\n",
    "\n",
    "The code below should return the same values for `my_list` and `my_vector` because they have the same number of elements:"
   ]
  },
  {
   "cell_type": "code",
   "execution_count": null,
   "metadata": {},
   "outputs": [],
   "source": []
  },
  {
   "cell_type": "code",
   "execution_count": 38,
   "metadata": {},
   "outputs": [
    {
     "name": "stdout",
     "output_type": "stream",
     "text": [
      "[1, 2, 3, 4] <class 'list'>\n",
      "List length: 4\n",
      "\n",
      "[1 2 3 4] <class 'numpy.ndarray'>\n",
      "Vector length: 4\n"
     ]
    }
   ],
   "source": [
    "list_length = len(my_list)\n",
    "vector_length = len(my_vector)\n",
    "\n",
    "print(my_list, type(my_list))\n",
    "print(f\"List length: {list_length}\\n\")\n",
    "\n",
    "print(my_vector, type(my_vector))\n",
    "print(f\"Vector length: {vector_length}\")"
   ]
  },
  {
   "cell_type": "markdown",
   "metadata": {},
   "source": [
    "What happens if we use `len` on a nested list? In this case, the function does not care about the contents of the nested lists. It will treat the nested lists like any other data type. \n",
    "\n",
    "Here's an example of a list containing three nested lists:"
   ]
  },
  {
   "cell_type": "code",
   "execution_count": 39,
   "metadata": {},
   "outputs": [
    {
     "name": "stdout",
     "output_type": "stream",
     "text": [
      "Number of elements in nested list: 3\n"
     ]
    }
   ],
   "source": [
    "my_nested_list = [[1, 2], [3, 4, 5], [6]]\n",
    "print(f\"Number of elements in nested list: {len(my_nested_list)}\")"
   ]
  },
  {
   "cell_type": "markdown",
   "metadata": {},
   "source": [
    "Even though there are 6 integers in total contained in the nested list, the `len` function returns 3 because it only counts the nested lists within the list as elements. \n",
    "\n",
    "We can show this by printing the types of each element:"
   ]
  },
  {
   "cell_type": "code",
   "execution_count": 40,
   "metadata": {},
   "outputs": [
    {
     "name": "stdout",
     "output_type": "stream",
     "text": [
      "<class 'list'>\n",
      "<class 'list'>\n",
      "<class 'list'>\n"
     ]
    }
   ],
   "source": [
    "for element in my_nested_list:\n",
    "    print(type(element))"
   ]
  },
  {
   "cell_type": "markdown",
   "metadata": {},
   "source": [
    "If we want the length of an individual nested list, we can specify which nested list and print its length using the following code:"
   ]
  },
  {
   "cell_type": "code",
   "execution_count": 41,
   "metadata": {},
   "outputs": [
    {
     "name": "stdout",
     "output_type": "stream",
     "text": [
      "2\n",
      "3\n",
      "1\n"
     ]
    }
   ],
   "source": [
    "# Length of the first nested list\n",
    "print(len(my_nested_list[0]))   \n",
    "\n",
    "# Length of the second nested list\n",
    "print(len(my_nested_list[1]))\n",
    "\n",
    "# Length of the third nested list   \n",
    "print(len(my_nested_list[2]))   "
   ]
  },
  {
   "cell_type": "markdown",
   "metadata": {},
   "source": [
    "How will `len()` work with a 2D array?"
   ]
  },
  {
   "cell_type": "code",
   "execution_count": 42,
   "metadata": {},
   "outputs": [
    {
     "name": "stdout",
     "output_type": "stream",
     "text": [
      "Nested list: \n",
      "[[1, 2], [3, 4, 5], [6]] \n",
      "length: 3\n",
      "\n",
      "2D array: \n",
      "[[ 7  8  9]\n",
      " [10 11 12]] \n",
      "length: 2\n"
     ]
    }
   ],
   "source": [
    "new_2d_array = np.array([[7, 8, 9], [10, 11, 12]])\n",
    "\n",
    "print(f\"Nested list: \\n{my_nested_list} \\nlength: {len(my_nested_list)}\\n\")\n",
    "print(f\"2D array: \\n{new_2d_array} \\nlength: {len(new_2d_array)}\")"
   ]
  },
  {
   "cell_type": "markdown",
   "metadata": {},
   "source": [
    "Looks like `len` returns the number of rows in our matrix!\n",
    "\n",
    "Even though we see six total elements in each, `len(my_nested_list) != len(my_2d_array)` because of the differences in structure."
   ]
  },
  {
   "cell_type": "markdown",
   "metadata": {},
   "source": [
    "#### The `shape` and `size` properties\n",
    "But what if we want the number of columns? Or the total number of elements in our matrix? \n",
    "\n",
    "With 2D arrays, we have a couple of properties that return similar information to `len`. We can use `size` to return the total number of elements and `shape` to return the total number of rows and columns (as a tuple).\n"
   ]
  },
  {
   "cell_type": "code",
   "execution_count": 44,
   "metadata": {},
   "outputs": [
    {
     "name": "stdout",
     "output_type": "stream",
     "text": [
      " The array \n",
      "\n",
      " [[5 6 7]\n",
      " [7 0 9]] \n",
      "\n",
      " has 6 elements \n",
      " Its shape is: (2, 3) \n",
      " This means that there are 2 rows and 3 columns \n"
     ]
    }
   ],
   "source": [
    "# Get size and shape of 2D array\n",
    "elements_in_array = my_2d_array.size\n",
    "num_rows, num_cols = my_2d_array.shape\n",
    "print(f\" The array \\n\\n {my_2d_array} \\n\\n has {elements_in_array} elements \")\n",
    "print(f\" Its shape is: {my_2d_array.shape} \")\n",
    "print(f\" This means that there are {num_rows} rows and {num_cols} columns \")"
   ]
  },
  {
   "cell_type": "code",
   "execution_count": 45,
   "metadata": {},
   "outputs": [
    {
     "name": "stdout",
     "output_type": "stream",
     "text": [
      " The array \n",
      "\n",
      " [[[ 9 10]\n",
      "  [11 12]]\n",
      "\n",
      " [[13 14]\n",
      "  [ 5 16]]] \n",
      "\n",
      " has 8 elements \n",
      " Its shape is: (2, 2, 2) \n",
      " This means that there are 2 rows, 2 columns, and 2 layers \n"
     ]
    }
   ],
   "source": [
    "# Get size and shape of 3D array\n",
    "elements_in_3d_array = my_3d_array.size\n",
    "num_rows, num_cols, num_layers = my_3d_array.shape\n",
    "print(f\" The array \\n\\n {my_3d_array} \\n\\n has {elements_in_3d_array} elements \")\n",
    "print(f\" Its shape is: {my_3d_array.shape} \")\n",
    "print(f\" This means that there are {num_rows} rows, {num_cols} columns, and {num_layers} layers \")"
   ]
  },
  {
   "cell_type": "markdown",
   "metadata": {},
   "source": [
    "To summarize:\n",
    "- `len`: returns the number of elements in a list/1D array *or* the number of rows in the array if the number of dimensions >= 2\n",
    "- `shape`: a tuple of numbers representing the size of each dimension\n",
    "- `size`: the total number of elements"
   ]
  }
 ],
 "metadata": {
  "kernelspec": {
   "display_name": "Python 3",
   "language": "python",
   "name": "python3"
  },
  "language_info": {
   "codemirror_mode": {
    "name": "ipython",
    "version": 3
   },
   "file_extension": ".py",
   "mimetype": "text/x-python",
   "name": "python",
   "nbconvert_exporter": "python",
   "pygments_lexer": "ipython3",
   "version": "3.10.11"
  }
 },
 "nbformat": 4,
 "nbformat_minor": 2
}
