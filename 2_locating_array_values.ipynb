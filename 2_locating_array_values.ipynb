{
 "cells": [
  {
   "cell_type": "markdown",
   "metadata": {},
   "source": [
    "# NumPy Fundamentals: Locating Array Values\n",
    "Please complete this assignment with your small group. Discussion is encouraged and a completed version is due before the next class."
   ]
  },
  {
   "cell_type": "code",
   "execution_count": 1,
   "metadata": {},
   "outputs": [],
   "source": [
    "import numpy as np"
   ]
  },
  {
   "cell_type": "code",
   "execution_count": 2,
   "metadata": {},
   "outputs": [
    {
     "data": {
      "text/plain": [
       "array([[12, 73, 68],\n",
       "       [33, 25,  1],\n",
       "       [54, 46, 92]])"
      ]
     },
     "execution_count": 2,
     "metadata": {},
     "output_type": "execute_result"
    }
   ],
   "source": [
    "my_array = np.array([[12, 73, 68], [33, 25, 1], [54, 46, 92]])\n",
    "my_array"
   ]
  },
  {
   "cell_type": "markdown",
   "metadata": {},
   "source": [
    "## Finding Minimum and Maximum Values\n"
   ]
  },
  {
   "cell_type": "markdown",
   "metadata": {},
   "source": [
    "What if we want to find the smallest element in our array? NumPy's `min` function allows us to do just that:"
   ]
  },
  {
   "cell_type": "code",
   "execution_count": 3,
   "metadata": {},
   "outputs": [
    {
     "name": "stdout",
     "output_type": "stream",
     "text": [
      "The smallest element is: 1\n"
     ]
    }
   ],
   "source": [
    "print(f\"The smallest element is: {np.min(my_array)}\")"
   ]
  },
  {
   "cell_type": "markdown",
   "metadata": {},
   "source": [
    "But *where* is the smallest element? NumPy also has a function to tell you its index:"
   ]
  },
  {
   "cell_type": "code",
   "execution_count": 4,
   "metadata": {},
   "outputs": [
    {
     "name": "stdout",
     "output_type": "stream",
     "text": [
      "The smallest element is at index: 5\n"
     ]
    }
   ],
   "source": [
    "print(f\"The smallest element is at index: {np.argmin(my_array)}\")"
   ]
  },
  {
   "cell_type": "markdown",
   "metadata": {},
   "source": [
    "But our array is has 2 dimensions...what does index 5 mean for a 2D array?\n",
    "\n",
    "Well if we flatten the array such that it's now 1D: "
   ]
  },
  {
   "cell_type": "code",
   "execution_count": 5,
   "metadata": {},
   "outputs": [
    {
     "name": "stdout",
     "output_type": "stream",
     "text": [
      "Flat array: [12 73 68 33 25  1 54 46 92]\n"
     ]
    }
   ],
   "source": [
    "my_flat_array = my_array.flatten()\n",
    "print(f\"Flat array: {my_flat_array}\")"
   ]
  },
  {
   "cell_type": "markdown",
   "metadata": {},
   "source": [
    "Looks like the element at index 5 is indeed 1!"
   ]
  },
  {
   "cell_type": "code",
   "execution_count": 6,
   "metadata": {},
   "outputs": [
    {
     "name": "stdout",
     "output_type": "stream",
     "text": [
      "1\n"
     ]
    }
   ],
   "source": [
    "print(my_flat_array[5])"
   ]
  },
  {
   "cell_type": "markdown",
   "metadata": {},
   "source": [
    "We can also use these functions to get the smallest element in each row or column:"
   ]
  },
  {
   "cell_type": "code",
   "execution_count": 7,
   "metadata": {},
   "outputs": [
    {
     "name": "stdout",
     "output_type": "stream",
     "text": [
      "The smallest elements in each row: [12 25  1]\n",
      "The smallest elements in each column: [12  1 46]\n"
     ]
    }
   ],
   "source": [
    "# Note: \n",
    "# - compare elements in each row --> axis = 0 \n",
    "# - compare elements in each column --> axis = 1\n",
    "\n",
    "print(f\"The smallest elements in each row: {np.min(my_array, axis = 0)}\")\n",
    "print(f\"The smallest elements in each column: {np.min(my_array, axis = 1)}\")"
   ]
  },
  {
   "cell_type": "markdown",
   "metadata": {},
   "source": [
    "NumPy also has analgous functions for finding the maximum element:\n",
    "- `np.max`: returns the largest element in the array\n",
    "- `np.argmax`: returns the index of the largest element"
   ]
  },
  {
   "cell_type": "markdown",
   "metadata": {},
   "source": [
    "### Q.1 Please find the largest value in `my_array`, the index of the largest value, and the largest values in each column"
   ]
  },
  {
   "cell_type": "code",
   "execution_count": 4,
   "metadata": {},
   "outputs": [
    {
     "name": "stdout",
     "output_type": "stream",
     "text": [
      "The largest element in my_array is: 92\n",
      "The largest element in my_array is at index: 8\n",
      "The largest elements in each column are: [73 33 92]\n"
     ]
    }
   ],
   "source": [
    "print(f\"The largest element in my_array is: {np.max(my_array)}\")\n",
    "print(f\"The largest element in my_array is at index: {np.argmax(my_array)}\")\n",
    "print(f\"The largest elements in each column are: {np.max(my_array, axis=1)}\")"
   ]
  },
  {
   "cell_type": "markdown",
   "metadata": {},
   "source": [
    "## Finding and Sorting Values Based On Conditions"
   ]
  },
  {
   "cell_type": "code",
   "execution_count": 22,
   "metadata": {},
   "outputs": [
    {
     "name": "stdout",
     "output_type": "stream",
     "text": [
      "[[-18  11  13  83]\n",
      " [-16  12  18  28]]\n"
     ]
    }
   ],
   "source": [
    "new_array = np.array([[-18, 13, 83, 11], [28, 18, 12, -16]])\n",
    "new_array\n",
    "print(np.sort(new_array))"
   ]
  },
  {
   "cell_type": "markdown",
   "metadata": {},
   "source": [
    "NumPy also allows us to find values that meet a certain criteria using `np.where`"
   ]
  },
  {
   "cell_type": "code",
   "execution_count": 7,
   "metadata": {},
   "outputs": [
    {
     "data": {
      "text/plain": [
       "(array([0, 1], dtype=int64), array([2, 0], dtype=int64))"
      ]
     },
     "execution_count": 7,
     "metadata": {},
     "output_type": "execute_result"
    }
   ],
   "source": [
    "np.where(new_array > 20)"
   ]
  },
  {
   "cell_type": "markdown",
   "metadata": {},
   "source": [
    "At first, these results do not seem to have a clear meaning. However, upon further inspection, we can see that the first list contains the row number and the second list contains the column index of each element that satisfies our condition"
   ]
  },
  {
   "cell_type": "markdown",
   "metadata": {},
   "source": [
    "We can also get the indices where the condition is met directly:"
   ]
  },
  {
   "cell_type": "code",
   "execution_count": 8,
   "metadata": {},
   "outputs": [
    {
     "data": {
      "text/plain": [
       "array([[0, 2],\n",
       "       [1, 0]], dtype=int64)"
      ]
     },
     "execution_count": 8,
     "metadata": {},
     "output_type": "execute_result"
    }
   ],
   "source": [
    "np.argwhere(new_array > 20)"
   ]
  },
  {
   "cell_type": "markdown",
   "metadata": {},
   "source": [
    "These are formatted much cleaner!"
   ]
  },
  {
   "cell_type": "markdown",
   "metadata": {},
   "source": [
    "NumPy also has a specific function that tells us where all of the non-zero elements are in an array:"
   ]
  },
  {
   "cell_type": "code",
   "execution_count": 9,
   "metadata": {},
   "outputs": [
    {
     "data": {
      "text/plain": [
       "(array([0, 0, 0, 0, 1, 1, 1, 1], dtype=int64),\n",
       " array([0, 1, 2, 3, 0, 1, 2, 3], dtype=int64))"
      ]
     },
     "execution_count": 9,
     "metadata": {},
     "output_type": "execute_result"
    }
   ],
   "source": [
    "np.nonzero(new_array)"
   ]
  },
  {
   "cell_type": "markdown",
   "metadata": {},
   "source": [
    "### Q.2 Use `np.where` to reproduce the output above"
   ]
  },
  {
   "cell_type": "code",
   "execution_count": 10,
   "metadata": {},
   "outputs": [
    {
     "name": "stdout",
     "output_type": "stream",
     "text": [
      "(array([0, 0, 0, 0, 1, 1, 1, 1], dtype=int64), array([0, 1, 2, 3, 0, 1, 2, 3], dtype=int64))\n"
     ]
    }
   ],
   "source": [
    "print(np.where(new_array !=0))"
   ]
  },
  {
   "cell_type": "markdown",
   "metadata": {},
   "source": [
    "Lastly, `np.sort` provides us with sorting capabilities, but the default result may not be exactly what you expect."
   ]
  },
  {
   "cell_type": "code",
   "execution_count": 14,
   "metadata": {},
   "outputs": [
    {
     "data": {
      "text/plain": [
       "array([[-18,  11,  13,  83],\n",
       "       [-16,  12,  18,  28]])"
      ]
     },
     "execution_count": 14,
     "metadata": {},
     "output_type": "execute_result"
    }
   ],
   "source": [
    "np.sort(new_array)"
   ]
  },
  {
   "cell_type": "markdown",
   "metadata": {},
   "source": [
    "### Q.3 What rules does NumPy seem to be following when sorting?"
   ]
  },
  {
   "cell_type": "markdown",
   "metadata": {},
   "source": [
    "### A.3 YOUR ANSWER HERE"
   ]
  },
  {
   "cell_type": "markdown",
   "metadata": {},
   "source": [
    "As an extension, trying seeing what values the axis parameter can take on and how that affects the sorting:"
   ]
  },
  {
   "cell_type": "code",
   "execution_count": 12,
   "metadata": {},
   "outputs": [
    {
     "name": "stdout",
     "output_type": "stream",
     "text": [
      "[[-18  13  12 -16]\n",
      " [ 28  18  83  11]]\n",
      "[[-18  11  13  83]\n",
      " [-16  12  18  28]]\n"
     ]
    }
   ],
   "source": [
    "# Try printing these one at a time!\n",
    "print(np.sort(new_array, axis=0))\n",
    "print(np.sort(new_array, axis=1))"
   ]
  },
  {
   "cell_type": "markdown",
   "metadata": {},
   "source": [
    "### Q.4 What impact does changing the `axis` argument have?"
   ]
  },
  {
   "cell_type": "markdown",
   "metadata": {},
   "source": [
    "### A.4 YOUR ANSWER HERE"
   ]
  },
  {
   "cell_type": "markdown",
   "metadata": {},
   "source": [
    "## Finding Values in a Database"
   ]
  },
  {
   "cell_type": "markdown",
   "metadata": {},
   "source": [
    "Suppose we have a database of customers with attached IDs. \n",
    "\n",
    "If we want to look for a customer with a specific ID, we can use `np.argwhere` to find them. "
   ]
  },
  {
   "cell_type": "code",
   "execution_count": 13,
   "metadata": {},
   "outputs": [],
   "source": [
    "customers = np.array([['Dave','4101'],['Gwendolyn','3222'],['Anne','2315']])"
   ]
  },
  {
   "cell_type": "markdown",
   "metadata": {},
   "source": [
    "### Q.5 Use the `np.argwhere()` function to get the index of Gwendolyn's ID number in the database"
   ]
  },
  {
   "cell_type": "code",
   "execution_count": 17,
   "metadata": {},
   "outputs": [
    {
     "name": "stdout",
     "output_type": "stream",
     "text": [
      "[[1 0]]\n"
     ]
    }
   ],
   "source": [
    "gwen_id_index = np.argwhere(customers == 'Gwendolyn')\n",
    "print(gwen_id_index)"
   ]
  },
  {
   "cell_type": "markdown",
   "metadata": {},
   "source": [
    "Great! Now the variable `gwen_id_index` is an array with the index of Gwendolyn's user ID in the database. "
   ]
  },
  {
   "cell_type": "markdown",
   "metadata": {},
   "source": [
    "### Q.6 Index the variable `gwen_id_index` as necessary to extract the row and column indices as integers"
   ]
  },
  {
   "cell_type": "code",
   "execution_count": 19,
   "metadata": {},
   "outputs": [
    {
     "name": "stdout",
     "output_type": "stream",
     "text": [
      "Gwen's ID is stored at index: 1,0\n"
     ]
    }
   ],
   "source": [
    "gwen_id_row = gwen_id_index[0][0]\n",
    "gwen_id_col = gwen_id_index[0][1]\n",
    "\n",
    "print(f\"Gwen's ID is stored at index: { gwen_id_row },{ gwen_id_col }\")"
   ]
  },
  {
   "cell_type": "markdown",
   "metadata": {},
   "source": [
    "To search the database by name, we'll use `np.where`:"
   ]
  },
  {
   "cell_type": "code",
   "execution_count": 20,
   "metadata": {},
   "outputs": [
    {
     "name": "stdout",
     "output_type": "stream",
     "text": [
      "[[2 0]]\n"
     ]
    }
   ],
   "source": [
    "anne_name_index = np.argwhere(customers=='Anne')\n",
    "print(anne_name_index)"
   ]
  },
  {
   "cell_type": "markdown",
   "metadata": {},
   "source": [
    "### Q.7 Use and index the variable `anne_name_index` as necessary to access the entry `['Anne', '2315']` in `customers`"
   ]
  },
  {
   "cell_type": "code",
   "execution_count": 20,
   "metadata": {},
   "outputs": [],
   "source": [
    "#anne_data = <YOUR ANSWER HERE> \n",
    "#print(f\"Anne's database entry: { anne_data }\")"
   ]
  }
 ],
 "metadata": {
  "kernelspec": {
   "display_name": "Python 3",
   "language": "python",
   "name": "python3"
  },
  "language_info": {
   "codemirror_mode": {
    "name": "ipython",
    "version": 3
   },
   "file_extension": ".py",
   "mimetype": "text/x-python",
   "name": "python",
   "nbconvert_exporter": "python",
   "pygments_lexer": "ipython3",
   "version": "3.10.11"
  }
 },
 "nbformat": 4,
 "nbformat_minor": 4
}
