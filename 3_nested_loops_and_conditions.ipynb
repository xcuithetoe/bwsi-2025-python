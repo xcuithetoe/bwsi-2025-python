{
 "cells": [
  {
   "cell_type": "markdown",
   "metadata": {
    "vscode": {
     "languageId": "plaintext"
    }
   },
   "source": [
    "# Loops and Conditions: Nested Loops and Conditions"
   ]
  },
  {
   "cell_type": "markdown",
   "metadata": {},
   "source": [
    "Please follow the instructions and uncomment the skeleton code as necessary.\n",
    "\n",
    "This assignment is due in addition to the small group assignment before the next class"
   ]
  },
  {
   "cell_type": "markdown",
   "metadata": {},
   "source": [
    "## FizzBuzz Problem"
   ]
  },
  {
   "cell_type": "markdown",
   "metadata": {},
   "source": [
    "Write a short program that prints each number from 1 to 100 except:\n",
    "\n",
    "- For each multiple of 3, print \"Fizz\" instead of the number\n",
    "\n",
    "- For each multiple of 5, print \"Buzz\" instead of the number\n",
    "\n",
    "- For numbers which are multiples of both 3 and 5, print \"FizzBuzz\" instead of the number"
   ]
  },
  {
   "cell_type": "code",
   "execution_count": 1,
   "metadata": {},
   "outputs": [
    {
     "name": "stdout",
     "output_type": "stream",
     "text": [
      "4\n",
      "6\n",
      "8\n",
      "9\n",
      "10\n",
      "12\n",
      "14\n",
      "15\n",
      "16\n",
      "18\n",
      "20\n",
      "21\n",
      "22\n",
      "24\n",
      "25\n",
      "26\n",
      "27\n",
      "28\n",
      "30\n",
      "32\n",
      "33\n",
      "34\n",
      "35\n",
      "36\n",
      "38\n",
      "39\n",
      "40\n",
      "42\n",
      "44\n",
      "45\n",
      "46\n",
      "48\n",
      "49\n",
      "50\n",
      "51\n",
      "52\n",
      "54\n",
      "55\n",
      "56\n",
      "57\n",
      "58\n",
      "60\n",
      "62\n",
      "63\n",
      "64\n",
      "65\n",
      "66\n",
      "68\n",
      "69\n",
      "70\n",
      "72\n",
      "74\n",
      "75\n",
      "76\n",
      "77\n",
      "78\n",
      "80\n",
      "81\n",
      "82\n",
      "84\n",
      "85\n",
      "86\n",
      "87\n",
      "88\n",
      "90\n",
      "91\n",
      "92\n",
      "93\n",
      "94\n",
      "95\n",
      "96\n",
      "98\n",
      "99\n"
     ]
    }
   ],
   "source": [
    "n = 100\n",
    "for x in range(2,n):\n",
    "\tcheck = False\n",
    "\tfor y in range(2,x):\n",
    "\t\tif x % y == 0:\n",
    "\t\t\tcheck = True\n",
    "\tif check:\n",
    "\t    print(x)"
   ]
  },
  {
   "cell_type": "markdown",
   "metadata": {},
   "source": [
    "### Q.1 Please outline in words the steps that should be executed for each iteration of the loop"
   ]
  },
  {
   "cell_type": "markdown",
   "metadata": {},
   "source": [
    "### A.1 YOUR ANSWER HERE"
   ]
  },
  {
   "cell_type": "markdown",
   "metadata": {},
   "source": [
    "### Q.2 Please implement the solution described in Q.1 with comments"
   ]
  },
  {
   "cell_type": "code",
   "execution_count": null,
   "metadata": {},
   "outputs": [],
   "source": [
    "# YOUR ANSWER HERE"
   ]
  },
  {
   "cell_type": "markdown",
   "metadata": {},
   "source": [
    "## Understanding Code Flow"
   ]
  },
  {
   "cell_type": "markdown",
   "metadata": {},
   "source": [
    "### Q.3 Please complete the commented lines below with descriptions of the code as indicated. "
   ]
  },
  {
   "cell_type": "code",
   "execution_count": 14,
   "metadata": {},
   "outputs": [
    {
     "name": "stdout",
     "output_type": "stream",
     "text": [
      "2 is a prime number\n",
      "3 is a prime number\n",
      "4 = 2 * 2\n",
      "5 is a prime number\n",
      "6 = 2 * 3\n",
      "7 is a prime number\n",
      "8 = 2 * 4\n",
      "9 = 3 * 3\n",
      "10 = 2 * 5\n",
      "\n",
      "List of prime numbers in range: [2, 3, 5, 7]\n"
     ]
    }
   ],
   "source": [
    "# Create list to store prime numbers\n",
    "prime_numbers_list = []\n",
    "\n",
    "# This for loop iterates over <YOUR ANSWER HERE>\n",
    "for n in range(2,11):\n",
    "    # Set is_prime as True\n",
    "    is_prime = True\n",
    "    # This for loop iterates over <YOUR ANSWER HERE>\n",
    "    for k in range(2, n):\n",
    "        # This condition checks if <YOUR ANSWER HERE>\n",
    "        if n % k == 0:\n",
    "            # If n % k == 0, then <YOUR ANSWER HERE>\n",
    "            print(f\"{n} = {k} * {n // k}\")\n",
    "            is_prime = False\n",
    "            break\n",
    "    # This condition checks if is_prime is True\n",
    "    if is_prime:\n",
    "        # If n is prime, then print as output \n",
    "        # and append to list of prime numbers\n",
    "        print(f\"{n} is a prime number\")\n",
    "        prime_numbers_list.append(n)\n",
    "        \n",
    "print(f\"\\nList of prime numbers in range: {prime_numbers_list}\")"
   ]
  },
  {
   "cell_type": "markdown",
   "metadata": {},
   "source": [
    "### Q.4 In one sentence, what is the main objective of the code above?"
   ]
  },
  {
   "cell_type": "markdown",
   "metadata": {},
   "source": [
    "### A.4 YOUR ANSWER HERE"
   ]
  }
 ],
 "metadata": {
  "kernelspec": {
   "display_name": "Python 3",
   "language": "python",
   "name": "python3"
  },
  "language_info": {
   "codemirror_mode": {
    "name": "ipython",
    "version": 3
   },
   "file_extension": ".py",
   "mimetype": "text/x-python",
   "name": "python",
   "nbconvert_exporter": "python",
   "pygments_lexer": "ipython3",
   "version": "3.10.11"
  }
 },
 "nbformat": 4,
 "nbformat_minor": 2
}
