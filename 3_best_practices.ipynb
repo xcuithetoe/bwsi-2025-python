{
 "cells": [
  {
   "cell_type": "markdown",
   "metadata": {},
   "source": [
    "# Functions: Best Practices for Functional Programming"
   ]
  },
  {
   "cell_type": "markdown",
   "metadata": {},
   "source": [
    "## When to Functionalize"
   ]
  },
  {
   "cell_type": "markdown",
   "metadata": {},
   "source": [
    "There are several reasons you may want to functionalize your code:\n",
    "- **Redundancy**: are you copy/pasting the same lines of code over and over? Do you need to process different variables in the same way?\n",
    "- **Same functionality in different places**: Are you doing the similar calculations in different branches of a logic tree?\n",
    "\n",
    "Functionalizing code has several advantages:\n",
    "1. **Increase flexibility**: allows you to \"toggle\" behaviors on and off, avoid hardcoding literal values\n",
    "2. **Increase testability**: clarify which part of the code should be responsible for specific task\n",
    "3. **Increase readability**: named functions with docstrings clarify inputs/outputs and the overall code flow\n",
    "4. **Increase reusability**: reuse code in different places without having to copy/paste or manually change variable names\n",
    "5. **Decrease complexity**: bugs are less likely to occur when code is simple and easy to read!\n"
   ]
  },
  {
   "cell_type": "markdown",
   "metadata": {},
   "source": [
    "## Code Flexibilty\n",
    "\n",
    "Consider the pseudocode below: \n",
    "\n",
    "```python\n",
    "# long setup\n",
    "var1 = ...\n",
    "var2 = ...\n",
    "var3 = ...\n",
    "...\n",
    "output_bool = False\n",
    "save_bool = True\n",
    "\n",
    "## very long for loop\n",
    "for i in iterations:\n",
    "    ## multi conditional logic\n",
    "    if condition1:\n",
    "        # do lots of stuff\n",
    "        ...\n",
    "    elif condition2:\n",
    "        # do lots of stuff\n",
    "        ...\n",
    "    elif condition3:\n",
    "        # do lots of stuff\n",
    "        ...\n",
    "    else:\n",
    "        # do lots of stuff\n",
    "        ...\n",
    "\n",
    "    ## post logic tree processing\n",
    "    # do even more stuff\n",
    "    ...\n",
    "    \n",
    "## output results\n",
    "if output_bool:\n",
    "    print(result1)\n",
    "    print(result2)\n",
    "\n",
    "    # format result3 using fstring\n",
    "    print(f\"{result3} is the third result\")\n",
    "    ...\n",
    "\n",
    "## save results\n",
    "if save_bool:\n",
    "    # create file paths\n",
    "    file_path1 = \"my/output/folder/file1.txt\"\n",
    "    file_path2 = \"my/output/folder/file2.txt\"\n",
    "\n",
    "    # save results 7,8, ... to txt files\n",
    "    np.savetxt(file_path1, result7)\n",
    "    np.savetxt(file_path2, result8)\n",
    "    ...\n",
    "```\n",
    "\n",
    "This code works great if I only need to run it once, top to bottom.\n",
    "\n",
    "But what if I need to run all of this multiple times? What about in a logic tree? Or in a loop? \n",
    "\n",
    "As you can imagine, this code could become difficult to maintain and debug as the number of indentation levels increase! "
   ]
  },
  {
   "cell_type": "markdown",
   "metadata": {},
   "source": [
    "Consider the same code written as a function below: \n",
    "\n",
    "```python\n",
    "def very_long_function(input1, input2, ..., output_bool = True, save_bool = True, output_folder = \"my/output/folder/\")\n",
    "    # long setup\n",
    "    ...\n",
    "\n",
    "    ## very long for loop\n",
    "    for i in iterations:\n",
    "        ## multi conditional logic\n",
    "        if condition1:\n",
    "            # do lots of stuff\n",
    "            ...\n",
    "        elif condition2:\n",
    "            # do lots of stuff\n",
    "            ...\n",
    "        elif condition3:\n",
    "            # do lots of stuff\n",
    "            ...\n",
    "        else:\n",
    "            # do lots of stuff\n",
    "            ...\n",
    "        \n",
    "        ## post logic tree processing\n",
    "        # do even more stuff\n",
    "        ...\n",
    "    \n",
    "    ## output results\n",
    "    if output_bool:\n",
    "        print(result1)\n",
    "        print(result2)\n",
    "\n",
    "        # format result3 using fstring\n",
    "        print(f\"{result3} is the third result\")\n",
    "        ...\n",
    "\n",
    "    ## save results\n",
    "    if save_bool:\n",
    "        # create file paths\n",
    "        file_path1 = output_folder+\"file1.txt\"\n",
    "        file_path2 = output_folder+\"file2.txt\"\n",
    "\n",
    "        # save results 7,8, ... to txt files\n",
    "        np.savetxt(file_path1, result7)\n",
    "        np.savetxt(file_path2, result8)\n",
    "        ...\n",
    "\n",
    "```\n",
    "\n",
    "**Note**: we use some handy syntax to assign **default values** to the `output_bool`, `save_bool`, and `output_folder` variables. This means that they are essentially optional arguments and don't need to be passed to `very_long_function` every time. If no value is input for those variables, the function will use the default. Defaults are great when you have a lot of arguments and/or change an input variable infrequently."
   ]
  },
  {
   "cell_type": "markdown",
   "metadata": {},
   "source": [
    "### Q.1 What is the advantage of having the output folder as a variable?"
   ]
  },
  {
   "cell_type": "markdown",
   "metadata": {},
   "source": [
    "### A.1 YOUR ANSWER HERE"
   ]
  },
  {
   "cell_type": "markdown",
   "metadata": {},
   "source": [
    "Great! We functionalized the code! But uh oh, the function is quite long...what should we do now?"
   ]
  },
  {
   "cell_type": "markdown",
   "metadata": {},
   "source": [
    "## When to Divide into Smaller Functions\n",
    "\n",
    "Practically, shorter functions are easier to maintain, test, and debug if something breaks! Comments are wonderful, but if you find yourself writing long/multiline comments or creating sections using comments it might be time to package parts of the code as their own functions. Redundancy or increasing numbers of conditions are also signs that you should consider breaking up your code into smaller parts.\n",
    "\n",
    "`very_long_function` is well commented, but will become difficult to maintain if additional calculations or conditions are needed. "
   ]
  },
  {
   "cell_type": "markdown",
   "metadata": {},
   "source": [
    "Below is an alternative version called `much_shorter_function`:\n",
    "\n",
    "```python\n",
    "def much_shorter_function(input1, input2, ..., output_bool = True, save_bool = True, output_folder = \"my/output/folder/\")\n",
    "    # setup\n",
    "    a,b = preprocess_inputs(input1, input2, ...)\n",
    "\n",
    "    # much cleaner for loop\n",
    "    for i in iterations:\n",
    "        # first processing step\n",
    "        c = handle_logic_tree(a,b)\n",
    "\n",
    "        # second processing step\n",
    "        d,e,f = do_even_more_stuff(c)\n",
    "        ...\n",
    "    \n",
    "    if output_bool:\n",
    "        print_results(results)\n",
    "        \n",
    "    if save_bool:\n",
    "        save_results(results)\n",
    "\n",
    "def handle_logic_tree(a,b):\n",
    "    if condition1:\n",
    "        return do_lots_of_stuff(a,b)\n",
    "    elif condition2:\n",
    "        return do_lots_of_stuff(a,b)\n",
    "    elif condition3:\n",
    "        return do_lots_of_stuff(a,b)\n",
    "    else:\n",
    "        return do_lots_of_stuff(a,b)\n",
    "\n",
    "...\n",
    "```\n",
    "\n",
    "This structure provides much more organization, which **increases the code's readability** while **decreasing its complexity.**\n",
    "\n",
    "This also allows us to use any of the helper functions (like `print_results` or `save_results`) as needed outside of `much_shorter_function`. In other words, smaller fucntions increase **reusability**."
   ]
  },
  {
   "cell_type": "markdown",
   "metadata": {},
   "source": [
    "### Q.2 Which lines of code from very_long_function are in print_results? What are the inputs and outputs of that helper function? Write pseudocode for print_results."
   ]
  },
  {
   "cell_type": "markdown",
   "metadata": {},
   "source": [
    "### A.2\n",
    "\n",
    "```python\n",
    "def print_results(     ):\n",
    "    \"\"\"Docstring here.\"\"\"\n",
    "    # YOUR PSEUDOCODE HERE\n",
    "```"
   ]
  },
  {
   "cell_type": "markdown",
   "metadata": {},
   "source": [
    "### Q.3 Which lines of code from very_long_function are in save_results? What are the inputs and outputs of that helper function? Write pseudocode for save_results."
   ]
  },
  {
   "cell_type": "markdown",
   "metadata": {},
   "source": [
    "### A.3\n",
    "\n",
    "```python\n",
    "def save_results(     ):\n",
    "    \"\"\"Docstring here.\"\"\"\n",
    "    # YOUR PSEUDOCODE HERE\n",
    "```"
   ]
  },
  {
   "cell_type": "markdown",
   "metadata": {},
   "source": [
    "## Final Thoughts\n",
    "- Practicing good habits early on in your programming journey will be extremely valuable later. \n",
    "- Readability is for yourself and your collaborators. Will other people understand your code? Will *you* understand it in a week or a year?\n",
    "- Writing clean code takes a lot of practice. Don't be afraid to write a lot of messy code as you learn. \n",
    "- No one starts writing code in the most efficient way. It's normal to start with a version that \"just works\" and iterate as needed."
   ]
  }
 ],
 "metadata": {
  "kernelspec": {
   "display_name": "base",
   "language": "python",
   "name": "python3"
  },
  "language_info": {
   "name": "python",
   "version": "3.12.8"
  }
 },
 "nbformat": 4,
 "nbformat_minor": 2
}
