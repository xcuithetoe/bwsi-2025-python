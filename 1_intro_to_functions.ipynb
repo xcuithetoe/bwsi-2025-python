{
 "cells": [
  {
   "cell_type": "markdown",
   "metadata": {},
   "source": [
    "# Functions: Introduction to Functions"
   ]
  },
  {
   "cell_type": "markdown",
   "metadata": {},
   "source": [
    "Functional programming is very powerful. Functions allow us to package many lines of code together such that we can execute many steps with just one function call."
   ]
  },
  {
   "cell_type": "markdown",
   "metadata": {},
   "source": [
    "## Syntax and Formatting"
   ]
  },
  {
   "cell_type": "markdown",
   "metadata": {},
   "source": [
    "Just like loops and conditional statements, Python uses white space (indentation) to define scope for which a function will run. \n",
    "The code indented after a `def` statement will be run whenever the function handle is called.\n",
    "\n",
    "```python\n",
    "def my_function_name(arg1, arg2):\n",
    "    \"\"\"My function description here.\"\"\"\n",
    "    # Do stuff here\n",
    "    pass\n",
    "```\n",
    "\n",
    "Note that Python also requires that the definition line for a function end with a `:`.\n",
    "\n",
    "Functions require 2 main components:\n",
    "1. **`def` statement**: define function name and input arguments\n",
    "2. **Indented code block**: code to be executed when the function is called\n",
    "\n",
    "Best practice is to also include a **docstring**. Docstrings are text wrapped in three sets of quotation marks used to provide longer description/more information about the function."
   ]
  },
  {
   "cell_type": "code",
   "execution_count": 55,
   "metadata": {},
   "outputs": [
    {
     "ename": "SyntaxError",
     "evalue": "incomplete input (1644771708.py, line 3)",
     "output_type": "error",
     "traceback": [
      "\u001b[0;36m  Cell \u001b[0;32mIn[55], line 3\u001b[0;36m\u001b[0m\n\u001b[0;31m    \u001b[0m\n\u001b[0m    ^\u001b[0m\n\u001b[0;31mSyntaxError\u001b[0m\u001b[0;31m:\u001b[0m incomplete input\n"
     ]
    }
   ],
   "source": [
    "def my_function_name(arg1, arg2):\n",
    "    # Do stuff here\n",
    "    "
   ]
  },
  {
   "cell_type": "code",
   "execution_count": null,
   "metadata": {},
   "outputs": [],
   "source": [
    "def my_function_name(arg1, arg2):\n",
    "    # Do stuff here\n",
    "    pass"
   ]
  },
  {
   "cell_type": "markdown",
   "metadata": {},
   "source": [
    "## Naming Conventions"
   ]
  },
  {
   "cell_type": "markdown",
   "metadata": {},
   "source": [
    "Like variables, the first thing to do to make a function is to name it. Functions should have descriptive names that say what they do. Functions are often easier to name than variables, as variables capture a whole range of possibilities, whereas each function only does one thing. Even if a function does multiple things, it's good to come up with a succinct way to describe it. \n",
    "\n",
    "Consider the following example: \n",
    "\n",
    "```python\n",
    "def some_function(user_age):\n",
    "    \"\"\"I don't know what this does.\"\"\"\n",
    "    print(f\"User is {user_age} years old\")\n",
    "\n",
    "some_function(13)\n",
    "\"User is 13 years old\"\n",
    "```"
   ]
  },
  {
   "cell_type": "markdown",
   "metadata": {},
   "source": [
    "Even though this is a simple function to print out the user's age, the function name doesn't reflect that. \n",
    "\n",
    "Let's make it a bit clearer:\n",
    "\n",
    "```python\n",
    "def print_user_age(user_age):\n",
    "    \"\"\"Print user's age.\"\"\"\n",
    "    print(f\"User is {user_age} years old\")\n",
    "\n",
    "print_user_age(13)\n",
    "\"User is 13 years old\"\n",
    "```\n",
    "\n",
    "Much better!"
   ]
  },
  {
   "cell_type": "markdown",
   "metadata": {},
   "source": [
    "## Using `return` Statements"
   ]
  },
  {
   "cell_type": "markdown",
   "metadata": {},
   "source": [
    "Let's try writing our very first function. The function `greet_user` is going to help us generate personalized greetings based on our `user_name`"
   ]
  },
  {
   "cell_type": "code",
   "execution_count": null,
   "metadata": {},
   "outputs": [
    {
     "name": "stdout",
     "output_type": "stream",
     "text": [
      "Hello, Shreya!\n"
     ]
    }
   ],
   "source": [
    "def greet_user(user_name):\n",
    "    \"\"\"Print greeting to user.\"\"\"\n",
    "    print(\"Hello, \" + user_name + \"!\")\n",
    "greet_user(\"Shreya\")"
   ]
  },
  {
   "cell_type": "markdown",
   "metadata": {},
   "source": [
    "Even though the previous cell gave us an output, let's see what happens when we try to save our personalized greeting in a variable to use later. "
   ]
  },
  {
   "cell_type": "code",
   "execution_count": null,
   "metadata": {},
   "outputs": [
    {
     "name": "stdout",
     "output_type": "stream",
     "text": [
      "Hello, Shreya!\n",
      "None\n"
     ]
    }
   ],
   "source": [
    "greeting = greet_user(\"Shreya\")\n",
    "print(greeting)"
   ]
  },
  {
   "cell_type": "markdown",
   "metadata": {},
   "source": [
    "Notice how the `greeting` variable is `None`? That means that welcome had no clue what happened when `greet_user` ran once it finished. \n",
    "\n",
    "In order to save the results from running our functions we need to make sure to add a `return` statement."
   ]
  },
  {
   "cell_type": "code",
   "execution_count": null,
   "metadata": {},
   "outputs": [],
   "source": [
    "def convert_min_to_sec(time_min):\n",
    "    \"\"\"Convert time from minutes to seconds.\"\"\"\n",
    "    return time_min * 60"
   ]
  },
  {
   "cell_type": "code",
   "execution_count": null,
   "metadata": {},
   "outputs": [
    {
     "data": {
      "text/plain": [
       "720"
      ]
     },
     "execution_count": 9,
     "metadata": {},
     "output_type": "execute_result"
    }
   ],
   "source": [
    "# check output\n",
    "convert_min_to_sec(12)"
   ]
  },
  {
   "cell_type": "markdown",
   "metadata": {},
   "source": [
    "It looks like our function is converting correctly, but let's trying saving the result in a varaible again. "
   ]
  },
  {
   "cell_type": "code",
   "execution_count": null,
   "metadata": {},
   "outputs": [],
   "source": [
    "time_min = 9\n",
    "time_sec = convert_min_to_sec(time_min)"
   ]
  },
  {
   "cell_type": "code",
   "execution_count": null,
   "metadata": {},
   "outputs": [
    {
     "name": "stdout",
     "output_type": "stream",
     "text": [
      "9 minutes is equal to 540 seconds\n"
     ]
    }
   ],
   "source": [
    "print(f\"{time_min} minutes is equal to {time_sec} seconds\")"
   ]
  },
  {
   "cell_type": "markdown",
   "metadata": {},
   "source": [
    "Looks like we correctly saving the results from our conversion calculation!"
   ]
  },
  {
   "cell_type": "markdown",
   "metadata": {},
   "source": [
    "## Using Loops and Conditional Statements in Functions"
   ]
  },
  {
   "cell_type": "markdown",
   "metadata": {},
   "source": [
    "Now let's try to combine our new knowledge of functions with the control statements (i.e. loops and conditions) we learned about last week."
   ]
  },
  {
   "cell_type": "markdown",
   "metadata": {},
   "source": [
    "Last week we used conditonal statements to determine if a number was divisible by another number. Let's say that we are trying to plan a movie night you are hosting for your friends. "
   ]
  },
  {
   "cell_type": "markdown",
   "metadata": {},
   "source": [
    "We want to find dates where you and your two best friends are all free.\n",
    "\n",
    "First, let's represent each person's available dates as a list."
   ]
  },
  {
   "cell_type": "code",
   "execution_count": null,
   "metadata": {},
   "outputs": [],
   "source": [
    "Sally_choices = [3, 8, 12, 16, 18, 21, 22, 25, 27, 30]\n",
    "Samantha_choices = [1, 4, 12, 17, 20, 21, 24, 25, 26, 28]\n",
    "Susan_choices = [3, 5, 7, 9, 15, 18, 21, 22, 23, 25, 26, 27, 29]"
   ]
  },
  {
   "cell_type": "code",
   "execution_count": null,
   "metadata": {},
   "outputs": [],
   "source": [
    "def find_good_choices(your_availability, friend1_availability, friend2_availability):\n",
    "    \"\"\"Find dates where you, friend1 and friend2 are all available.\"\"\"\n",
    "    good_choices = []\n",
    "    for date in your_availability:\n",
    "        # notice how date appears twice in this condition\n",
    "        if (date in friend1_availability and date in friend2_availability):\n",
    "            good_choices.append(date)\n",
    "    return good_choices"
   ]
  },
  {
   "cell_type": "markdown",
   "metadata": {},
   "source": [
    "Testing out our new function:"
   ]
  },
  {
   "cell_type": "code",
   "execution_count": null,
   "metadata": {},
   "outputs": [
    {
     "name": "stdout",
     "output_type": "stream",
     "text": [
      "[21, 25]\n"
     ]
    }
   ],
   "source": [
    "May_choices = find_good_choices(Sally_choices, Samantha_choices, Susan_choices)\n",
    "print(May_choices)"
   ]
  },
  {
   "cell_type": "markdown",
   "metadata": {},
   "source": [
    "Hooray! Looks like the 21st and the 25th work for everyone. \n",
    "\n",
    "Let's check another month:"
   ]
  },
  {
   "cell_type": "code",
   "execution_count": null,
   "metadata": {},
   "outputs": [
    {
     "name": "stdout",
     "output_type": "stream",
     "text": [
      "[21]\n"
     ]
    }
   ],
   "source": [
    "Samantha_choices = [1, 4, 20, 21, 24, 25, 26, 28]\n",
    "Susan_choices = [3, 5, 7, 9, 15, 18, 21, 22, 23, 26, 27, 29]\n",
    "June_choices = find_good_choices(Sally_choices, Samantha_choices, Susan_choices)\n",
    "print(June_choices)"
   ]
  },
  {
   "cell_type": "markdown",
   "metadata": {},
   "source": [
    "Sweet! Using a function allows us to find a good date each month simply by calling `find_good_choices`.\n",
    "\n",
    "Now let's try to customize our invitation based on the availability we found. "
   ]
  },
  {
   "cell_type": "code",
   "execution_count": null,
   "metadata": {},
   "outputs": [],
   "source": [
    "def create_simple_invite(choices, friend1_name, friend2_name):\n",
    "    \"\"\"Print invite for friend1 and friend2.\"\"\"\n",
    "    if len(choices) == 0:\n",
    "        return(\"Unfortunately, there's no good date this month. Let's try again next month!\")\n",
    "    else:\n",
    "        # since our list of choices is made up of integers we need to covert them to strings before we concatenate\n",
    "        return(\"Let's meet on the \" + str(choices[0]) + \", \" + friend1_name + \" & \" + friend2_name)"
   ]
  },
  {
   "cell_type": "code",
   "execution_count": null,
   "metadata": {},
   "outputs": [
    {
     "data": {
      "text/plain": [
       "\"Let's meet on the 21, Susan & Sally\""
      ]
     },
     "execution_count": 54,
     "metadata": {},
     "output_type": "execute_result"
    }
   ],
   "source": [
    "# Notice Susan and Sally are strings here\n",
    "create_simple_invite(May_choices, \"Susan\", \"Sally\")"
   ]
  },
  {
   "cell_type": "markdown",
   "metadata": {},
   "source": [
    "Our invitation looks pretty good, but as a challenge try to think about how we could represent the date closer to spoken English. For example, 21st, 22nd, or 23rd, etc."
   ]
  },
  {
   "cell_type": "code",
   "execution_count": null,
   "metadata": {},
   "outputs": [],
   "source": [
    "def add_date_suffix(date):\n",
    "    \"\"\"\n",
    "    Add appropriate suffix for given date.\n",
    "    INPUTS: date (int)\n",
    "    RETURNS: date with suffix (str)\n",
    "    \"\"\"\n",
    "\n",
    "    date_str = str(date)\n",
    "    last_digit_str = date_str[-1]\n",
    "\n",
    "    if date_str in [\"11\",\"12\",\"13\"]:\n",
    "        date_str = date_str + \"th\"\n",
    "    elif last_digit_str == \"1\":\n",
    "        date_str = date_str + \"st\"\n",
    "    elif last_digit_str == \"2\":\n",
    "        date_str = date_str + \"nd\"\n",
    "    elif last_digit_str == \"3\": \n",
    "        date_str = date_str + \"rd\"\n",
    "    else:\n",
    "        date_str = date_str + \"th\"\n",
    "\n",
    "    return date_str\n",
    "    "
   ]
  },
  {
   "cell_type": "markdown",
   "metadata": {},
   "source": [
    "Best practice: check all basic and edge cases for expected outputs!"
   ]
  },
  {
   "cell_type": "code",
   "execution_count": 60,
   "metadata": {},
   "outputs": [
    {
     "name": "stdout",
     "output_type": "stream",
     "text": [
      "1st\n",
      "11th\n",
      "12th\n",
      "13th\n",
      "22nd\n",
      "23rd\n"
     ]
    }
   ],
   "source": [
    "print(add_date_suffix(1))  # EXPECTED: 1st\n",
    "print(add_date_suffix(11)) # EXPECTED: 11th\n",
    "print(add_date_suffix(12)) # EXPECTED: 12th\n",
    "print(add_date_suffix(13)) # EXPECTED: 13th\n",
    "print(add_date_suffix(22)) # EXPECTED: 22nd\n",
    "print(add_date_suffix(23)) # EXPECTED: 23rd"
   ]
  },
  {
   "cell_type": "markdown",
   "metadata": {},
   "source": [
    "Let's use our new helper function to make our invite a bit nicer:"
   ]
  },
  {
   "cell_type": "code",
   "execution_count": null,
   "metadata": {},
   "outputs": [],
   "source": [
    "def customize_invite(choices, friend1_name, friend2_name):\n",
    "    \"\"\"Print invite for friend1 and friend2 with appropriate date suffix.\"\"\"\n",
    "    if len(choices) == 0:\n",
    "        return(\"Unfortunately, there's no good date this month. Let's try again next month!\")\n",
    "    else:\n",
    "        # since our list of choices is made up of integers we need to covert them to strings before we concatenate\n",
    "        return(\"Let's meet on the \" + add_date_suffix(choices[0]) + \", \" + friend1_name + \" & \" + friend2_name)"
   ]
  },
  {
   "cell_type": "code",
   "execution_count": 61,
   "metadata": {},
   "outputs": [
    {
     "data": {
      "text/plain": [
       "\"Let's meet on the 21st, Susan & Sally\""
      ]
     },
     "execution_count": 61,
     "metadata": {},
     "output_type": "execute_result"
    }
   ],
   "source": [
    "# Notice Susan and Sally are strings here\n",
    "customize_invite(May_choices, \"Susan\", \"Sally\")"
   ]
  },
  {
   "cell_type": "markdown",
   "metadata": {},
   "source": [
    "Now that we've created `customize_invite`, we can reuse it from month to month and if someone's availability changes we can generate a new invitation with one line of code!"
   ]
  },
  {
   "cell_type": "markdown",
   "metadata": {},
   "source": [
    "**A couple of important notes:**\n",
    "1. As a programmer you need to know the type of inputs in your functions. \n",
    "2. Function arguments are positional. We would get an error if we accidentally mixed up the arguments to this function."
   ]
  },
  {
   "cell_type": "code",
   "execution_count": 62,
   "metadata": {},
   "outputs": [
    {
     "ename": "TypeError",
     "evalue": "can only concatenate str (not \"list\") to str",
     "output_type": "error",
     "traceback": [
      "\u001b[0;31m---------------------------------------------------------------------------\u001b[0m",
      "\u001b[0;31mTypeError\u001b[0m                                 Traceback (most recent call last)",
      "Cell \u001b[0;32mIn[62], line 1\u001b[0m\n\u001b[0;32m----> 1\u001b[0m \u001b[43mcustomize_invite\u001b[49m\u001b[43m(\u001b[49m\u001b[38;5;124;43m\"\u001b[39;49m\u001b[38;5;124;43mSusan\u001b[39;49m\u001b[38;5;124;43m\"\u001b[39;49m\u001b[43m,\u001b[49m\u001b[43m \u001b[49m\u001b[38;5;124;43m\"\u001b[39;49m\u001b[38;5;124;43mSally\u001b[39;49m\u001b[38;5;124;43m\"\u001b[39;49m\u001b[43m,\u001b[49m\u001b[43m \u001b[49m\u001b[43mMay_choices\u001b[49m\u001b[43m)\u001b[49m\n",
      "Cell \u001b[0;32mIn[51], line 7\u001b[0m, in \u001b[0;36mcustomize_invite\u001b[0;34m(choices, friend1_name, friend2_name)\u001b[0m\n\u001b[1;32m      4\u001b[0m     \u001b[38;5;28;01mreturn\u001b[39;00m(\u001b[38;5;124m\"\u001b[39m\u001b[38;5;124mUnfortunately, there\u001b[39m\u001b[38;5;124m'\u001b[39m\u001b[38;5;124ms no good date this month. Let\u001b[39m\u001b[38;5;124m'\u001b[39m\u001b[38;5;124ms try again next month!\u001b[39m\u001b[38;5;124m\"\u001b[39m)\n\u001b[1;32m      5\u001b[0m \u001b[38;5;28;01melse\u001b[39;00m:\n\u001b[1;32m      6\u001b[0m     \u001b[38;5;66;03m# since our list of choices is made up of integers we need to covert them to strings before we concatenate\u001b[39;00m\n\u001b[0;32m----> 7\u001b[0m     \u001b[38;5;28;01mreturn\u001b[39;00m(\u001b[38;5;124;43m\"\u001b[39;49m\u001b[38;5;124;43mLet\u001b[39;49m\u001b[38;5;124;43m'\u001b[39;49m\u001b[38;5;124;43ms meet on the \u001b[39;49m\u001b[38;5;124;43m\"\u001b[39;49m\u001b[43m \u001b[49m\u001b[38;5;241;43m+\u001b[39;49m\u001b[43m \u001b[49m\u001b[43madd_date_suffix\u001b[49m\u001b[43m(\u001b[49m\u001b[43mchoices\u001b[49m\u001b[43m[\u001b[49m\u001b[38;5;241;43m0\u001b[39;49m\u001b[43m]\u001b[49m\u001b[43m)\u001b[49m\u001b[43m \u001b[49m\u001b[38;5;241;43m+\u001b[39;49m\u001b[43m \u001b[49m\u001b[38;5;124;43m\"\u001b[39;49m\u001b[38;5;124;43m, \u001b[39;49m\u001b[38;5;124;43m\"\u001b[39;49m\u001b[43m \u001b[49m\u001b[38;5;241;43m+\u001b[39;49m\u001b[43m \u001b[49m\u001b[43mfriend1_name\u001b[49m\u001b[43m \u001b[49m\u001b[38;5;241;43m+\u001b[39;49m\u001b[43m \u001b[49m\u001b[38;5;124;43m\"\u001b[39;49m\u001b[38;5;124;43m & \u001b[39;49m\u001b[38;5;124;43m\"\u001b[39;49m\u001b[43m \u001b[49m\u001b[38;5;241;43m+\u001b[39;49m\u001b[43m \u001b[49m\u001b[43mfriend2_name\u001b[49m)\n",
      "\u001b[0;31mTypeError\u001b[0m: can only concatenate str (not \"list\") to str"
     ]
    }
   ],
   "source": [
    "customize_invite(\"Susan\", \"Sally\", May_choices)"
   ]
  },
  {
   "cell_type": "markdown",
   "metadata": {},
   "source": [
    "Sometimes more complicated functions have many arguments and/or optional arguments.\n",
    "\n",
    "If we know the input arguments we want but not the order that they're defined in the function itself, we can set them explicitly:"
   ]
  },
  {
   "cell_type": "code",
   "execution_count": 63,
   "metadata": {},
   "outputs": [
    {
     "data": {
      "text/plain": [
       "\"Let's meet on the 21st, Susan & Sally\""
      ]
     },
     "execution_count": 63,
     "metadata": {},
     "output_type": "execute_result"
    }
   ],
   "source": [
    "customize_invite(friend1_name=\"Susan\", friend2_name=\"Sally\", choices=May_choices)"
   ]
  }
 ],
 "metadata": {
  "kernelspec": {
   "display_name": "base",
   "language": "python",
   "name": "python3"
  },
  "language_info": {
   "codemirror_mode": {
    "name": "ipython",
    "version": 3
   },
   "file_extension": ".py",
   "mimetype": "text/x-python",
   "name": "python",
   "nbconvert_exporter": "python",
   "pygments_lexer": "ipython3",
   "version": "3.12.4"
  }
 },
 "nbformat": 4,
 "nbformat_minor": 2
}
