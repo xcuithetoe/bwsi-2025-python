{
 "cells": [
  {
   "cell_type": "markdown",
   "metadata": {
    "id": "1U7qEg1yqa5n"
   },
   "source": [
    "# Introduction to Data Science: Sorting and Filtering Data\n",
    "Please complete this assignment with your small group. Discussion is encouraged and a completed version is due before the next class."
   ]
  },
  {
   "cell_type": "code",
   "execution_count": 1,
   "metadata": {
    "id": "MyIkoDmCqa5q"
   },
   "outputs": [],
   "source": [
    "import numpy as np\n",
    "import pandas as pd\n",
    "import matplotlib.pyplot as plt"
   ]
  },
  {
   "cell_type": "markdown",
   "metadata": {
    "id": "pg1EO9_7spOa"
   },
   "source": [
    "We are going to create a variable to store our data on course staff. \n",
    "The argument given to `read_csv` is the path to the file containing our data."
   ]
  },
  {
   "cell_type": "code",
   "execution_count": 2,
   "metadata": {
    "colab": {
     "base_uri": "https://localhost:8080/",
     "height": 365
    },
    "id": "6S__NDv_smtd",
    "outputId": "89474eda-ff98-4645-f0ce-1205fbce7428"
   },
   "outputs": [
    {
     "data": {
      "text/html": [
       "<div>\n",
       "<style scoped>\n",
       "    .dataframe tbody tr th:only-of-type {\n",
       "        vertical-align: middle;\n",
       "    }\n",
       "\n",
       "    .dataframe tbody tr th {\n",
       "        vertical-align: top;\n",
       "    }\n",
       "\n",
       "    .dataframe thead th {\n",
       "        text-align: right;\n",
       "    }\n",
       "</style>\n",
       "<table border=\"1\" class=\"dataframe\">\n",
       "  <thead>\n",
       "    <tr style=\"text-align: right;\">\n",
       "      <th></th>\n",
       "      <th>first_name</th>\n",
       "      <th>last_name</th>\n",
       "      <th>major</th>\n",
       "      <th>year</th>\n",
       "      <th>graduated</th>\n",
       "      <th>school</th>\n",
       "      <th>favorite_number</th>\n",
       "    </tr>\n",
       "  </thead>\n",
       "  <tbody>\n",
       "    <tr>\n",
       "      <th>0</th>\n",
       "      <td>Kallee</td>\n",
       "      <td>Gallant</td>\n",
       "      <td>physics</td>\n",
       "      <td>NaN</td>\n",
       "      <td>True</td>\n",
       "      <td>Columbia</td>\n",
       "      <td>9</td>\n",
       "    </tr>\n",
       "    <tr>\n",
       "      <th>1</th>\n",
       "      <td>Abby</td>\n",
       "      <td>Pitcairn</td>\n",
       "      <td>computer science</td>\n",
       "      <td>senior</td>\n",
       "      <td>False</td>\n",
       "      <td>University of Southern Maine</td>\n",
       "      <td>7</td>\n",
       "    </tr>\n",
       "    <tr>\n",
       "      <th>2</th>\n",
       "      <td>Peter</td>\n",
       "      <td>Fitton</td>\n",
       "      <td>physics</td>\n",
       "      <td>junior</td>\n",
       "      <td>False</td>\n",
       "      <td>University of Southern Maine</td>\n",
       "      <td>1</td>\n",
       "    </tr>\n",
       "    <tr>\n",
       "      <th>3</th>\n",
       "      <td>Shreya</td>\n",
       "      <td>Singh</td>\n",
       "      <td>computer science</td>\n",
       "      <td>junior</td>\n",
       "      <td>False</td>\n",
       "      <td>Stanford</td>\n",
       "      <td>3</td>\n",
       "    </tr>\n",
       "    <tr>\n",
       "      <th>4</th>\n",
       "      <td>Silas</td>\n",
       "      <td>Pillsbury</td>\n",
       "      <td>philosophy</td>\n",
       "      <td>NaN</td>\n",
       "      <td>True</td>\n",
       "      <td>St. Johns College</td>\n",
       "      <td>6</td>\n",
       "    </tr>\n",
       "  </tbody>\n",
       "</table>\n",
       "</div>"
      ],
      "text/plain": [
       "  first_name  last_name             major    year  graduated  \\\n",
       "0     Kallee    Gallant           physics     NaN       True   \n",
       "1       Abby   Pitcairn  computer science  senior      False   \n",
       "2      Peter     Fitton           physics  junior      False   \n",
       "3     Shreya      Singh  computer science  junior      False   \n",
       "4      Silas  Pillsbury        philosophy     NaN       True   \n",
       "\n",
       "                         school  favorite_number  \n",
       "0                      Columbia                9  \n",
       "1  University of Southern Maine                7  \n",
       "2  University of Southern Maine                1  \n",
       "3                      Stanford                3  \n",
       "4             St. Johns College                6  "
      ]
     },
     "execution_count": 2,
     "metadata": {},
     "output_type": "execute_result"
    }
   ],
   "source": [
    "staff_data = pd.read_csv('./data/fall2024_python_staff.csv')\n",
    "staff_data"
   ]
  },
  {
   "cell_type": "markdown",
   "metadata": {
    "id": "bg3RPbjPqa5r"
   },
   "source": [
    "## Sorting DataFrames"
   ]
  },
  {
   "cell_type": "markdown",
   "metadata": {
    "id": "cpV8VTZ7vwPp"
   },
   "source": [
    "The `df.sort_index` and `df.sort_values` methods allow us to manipulate the arrangement of our dataframe."
   ]
  },
  {
   "cell_type": "markdown",
   "metadata": {
    "id": "teBjD__vwaq-"
   },
   "source": [
    "The `df.sort_index` method acts on the bolded column names at the top of the dataframe. These are not actual data points, but rather labels to help us organize our table."
   ]
  },
  {
   "cell_type": "markdown",
   "metadata": {
    "id": "1pz1maEXygzs"
   },
   "source": [
    "Let's try sorting the column indices:"
   ]
  },
  {
   "cell_type": "code",
   "execution_count": 3,
   "metadata": {
    "colab": {
     "base_uri": "https://localhost:8080/",
     "height": 365
    },
    "id": "zZSznXLDzh4E",
    "outputId": "282a3179-abc0-4dcd-a246-2f74bc43f382"
   },
   "outputs": [
    {
     "data": {
      "text/html": [
       "<div>\n",
       "<style scoped>\n",
       "    .dataframe tbody tr th:only-of-type {\n",
       "        vertical-align: middle;\n",
       "    }\n",
       "\n",
       "    .dataframe tbody tr th {\n",
       "        vertical-align: top;\n",
       "    }\n",
       "\n",
       "    .dataframe thead th {\n",
       "        text-align: right;\n",
       "    }\n",
       "</style>\n",
       "<table border=\"1\" class=\"dataframe\">\n",
       "  <thead>\n",
       "    <tr style=\"text-align: right;\">\n",
       "      <th></th>\n",
       "      <th>favorite_number</th>\n",
       "      <th>first_name</th>\n",
       "      <th>graduated</th>\n",
       "      <th>last_name</th>\n",
       "      <th>major</th>\n",
       "      <th>school</th>\n",
       "      <th>year</th>\n",
       "    </tr>\n",
       "  </thead>\n",
       "  <tbody>\n",
       "    <tr>\n",
       "      <th>0</th>\n",
       "      <td>9</td>\n",
       "      <td>Kallee</td>\n",
       "      <td>True</td>\n",
       "      <td>Gallant</td>\n",
       "      <td>physics</td>\n",
       "      <td>Columbia</td>\n",
       "      <td>NaN</td>\n",
       "    </tr>\n",
       "    <tr>\n",
       "      <th>1</th>\n",
       "      <td>7</td>\n",
       "      <td>Abby</td>\n",
       "      <td>False</td>\n",
       "      <td>Pitcairn</td>\n",
       "      <td>computer science</td>\n",
       "      <td>University of Southern Maine</td>\n",
       "      <td>senior</td>\n",
       "    </tr>\n",
       "    <tr>\n",
       "      <th>2</th>\n",
       "      <td>1</td>\n",
       "      <td>Peter</td>\n",
       "      <td>False</td>\n",
       "      <td>Fitton</td>\n",
       "      <td>physics</td>\n",
       "      <td>University of Southern Maine</td>\n",
       "      <td>junior</td>\n",
       "    </tr>\n",
       "    <tr>\n",
       "      <th>3</th>\n",
       "      <td>3</td>\n",
       "      <td>Shreya</td>\n",
       "      <td>False</td>\n",
       "      <td>Singh</td>\n",
       "      <td>computer science</td>\n",
       "      <td>Stanford</td>\n",
       "      <td>junior</td>\n",
       "    </tr>\n",
       "    <tr>\n",
       "      <th>4</th>\n",
       "      <td>6</td>\n",
       "      <td>Silas</td>\n",
       "      <td>True</td>\n",
       "      <td>Pillsbury</td>\n",
       "      <td>philosophy</td>\n",
       "      <td>St. Johns College</td>\n",
       "      <td>NaN</td>\n",
       "    </tr>\n",
       "  </tbody>\n",
       "</table>\n",
       "</div>"
      ],
      "text/plain": [
       "   favorite_number first_name  graduated  last_name             major  \\\n",
       "0                9     Kallee       True    Gallant           physics   \n",
       "1                7       Abby      False   Pitcairn  computer science   \n",
       "2                1      Peter      False     Fitton           physics   \n",
       "3                3     Shreya      False      Singh  computer science   \n",
       "4                6      Silas       True  Pillsbury        philosophy   \n",
       "\n",
       "                         school    year  \n",
       "0                      Columbia     NaN  \n",
       "1  University of Southern Maine  senior  \n",
       "2  University of Southern Maine  junior  \n",
       "3                      Stanford  junior  \n",
       "4             St. Johns College     NaN  "
      ]
     },
     "execution_count": 3,
     "metadata": {},
     "output_type": "execute_result"
    }
   ],
   "source": [
    "staff_data.sort_index(axis = 1)"
   ]
  },
  {
   "cell_type": "markdown",
   "metadata": {
    "id": "nWHsIrQ9zrPA"
   },
   "source": [
    "Notice how the column headers are now arranged in alphabetical order."
   ]
  },
  {
   "cell_type": "markdown",
   "metadata": {
    "id": "lWFHbR603AZM"
   },
   "source": [
    "Now let's pick a random group of 3 staff members to grade assignments this week."
   ]
  },
  {
   "cell_type": "code",
   "execution_count": 4,
   "metadata": {
    "colab": {
     "base_uri": "https://localhost:8080/",
     "height": 250
    },
    "id": "q3awuYjL3b6v",
    "outputId": "660df71c-868f-489e-bf9c-8d10a1911e22"
   },
   "outputs": [
    {
     "data": {
      "text/html": [
       "<div>\n",
       "<style scoped>\n",
       "    .dataframe tbody tr th:only-of-type {\n",
       "        vertical-align: middle;\n",
       "    }\n",
       "\n",
       "    .dataframe tbody tr th {\n",
       "        vertical-align: top;\n",
       "    }\n",
       "\n",
       "    .dataframe thead th {\n",
       "        text-align: right;\n",
       "    }\n",
       "</style>\n",
       "<table border=\"1\" class=\"dataframe\">\n",
       "  <thead>\n",
       "    <tr style=\"text-align: right;\">\n",
       "      <th></th>\n",
       "      <th>first_name</th>\n",
       "      <th>last_name</th>\n",
       "      <th>major</th>\n",
       "      <th>year</th>\n",
       "      <th>graduated</th>\n",
       "      <th>school</th>\n",
       "      <th>favorite_number</th>\n",
       "    </tr>\n",
       "  </thead>\n",
       "  <tbody>\n",
       "    <tr>\n",
       "      <th>4</th>\n",
       "      <td>Silas</td>\n",
       "      <td>Pillsbury</td>\n",
       "      <td>philosophy</td>\n",
       "      <td>NaN</td>\n",
       "      <td>True</td>\n",
       "      <td>St. Johns College</td>\n",
       "      <td>6</td>\n",
       "    </tr>\n",
       "    <tr>\n",
       "      <th>2</th>\n",
       "      <td>Peter</td>\n",
       "      <td>Fitton</td>\n",
       "      <td>physics</td>\n",
       "      <td>junior</td>\n",
       "      <td>False</td>\n",
       "      <td>University of Southern Maine</td>\n",
       "      <td>1</td>\n",
       "    </tr>\n",
       "    <tr>\n",
       "      <th>1</th>\n",
       "      <td>Abby</td>\n",
       "      <td>Pitcairn</td>\n",
       "      <td>computer science</td>\n",
       "      <td>senior</td>\n",
       "      <td>False</td>\n",
       "      <td>University of Southern Maine</td>\n",
       "      <td>7</td>\n",
       "    </tr>\n",
       "  </tbody>\n",
       "</table>\n",
       "</div>"
      ],
      "text/plain": [
       "  first_name  last_name             major    year  graduated  \\\n",
       "4      Silas  Pillsbury        philosophy     NaN       True   \n",
       "2      Peter     Fitton           physics  junior      False   \n",
       "1       Abby   Pitcairn  computer science  senior      False   \n",
       "\n",
       "                         school  favorite_number  \n",
       "4             St. Johns College                6  \n",
       "2  University of Southern Maine                1  \n",
       "1  University of Southern Maine                7  "
      ]
     },
     "execution_count": 4,
     "metadata": {},
     "output_type": "execute_result"
    }
   ],
   "source": [
    "graders = staff_data.sample(3)\n",
    "graders"
   ]
  },
  {
   "cell_type": "markdown",
   "metadata": {
    "id": "ofa-uxAL2sKO"
   },
   "source": [
    "### Q.1: How would we organize our sample from the data frame based on the order people were added to it?"
   ]
  },
  {
   "cell_type": "code",
   "execution_count": 5,
   "metadata": {
    "colab": {
     "base_uri": "https://localhost:8080/",
     "height": 250
    },
    "id": "NkdiBMx3yY6u",
    "outputId": "dfd15797-d865-42ec-a247-3422faffee3c"
   },
   "outputs": [],
   "source": [
    "# YOUR CODE HERE\n"
   ]
  },
  {
   "cell_type": "markdown",
   "metadata": {
    "id": "4tNLyCNS0irh"
   },
   "source": [
    "Notice this organization is the same as what pandas defaulted to when we loaded in our data."
   ]
  },
  {
   "cell_type": "markdown",
   "metadata": {
    "id": "MhsOAb-m1vtY"
   },
   "source": [
    "This function allows us to unscramble the rows, if we need to maintain the order entries were added to the dataframe."
   ]
  },
  {
   "cell_type": "markdown",
   "metadata": {
    "id": "D_xkbJgH00zS"
   },
   "source": [
    "### Q.2 Describe a scenario where it is essential to maintain the order that people were added to the dataframe"
   ]
  },
  {
   "cell_type": "markdown",
   "metadata": {
    "id": "v7l8U0-W4NKR"
   },
   "source": [
    "### A.2 YOUR ANSWER HERE"
   ]
  },
  {
   "cell_type": "markdown",
   "metadata": {
    "id": "VYhB3jaCr60Q"
   },
   "source": [
    "### Q.3 Please organize our staff roster in alphabetical order by first name"
   ]
  },
  {
   "cell_type": "code",
   "execution_count": 6,
   "metadata": {
    "colab": {
     "base_uri": "https://localhost:8080/",
     "height": 365
    },
    "id": "TbuDIS7H5XaY",
    "outputId": "159848ef-7663-46bd-cba9-9b55e9ddd3d7"
   },
   "outputs": [],
   "source": [
    "# YOUR CODE HERE\n"
   ]
  },
  {
   "cell_type": "markdown",
   "metadata": {
    "id": "dbQbHUxrqa5s"
   },
   "source": [
    "## Using Conditions to Filter DataFrames"
   ]
  },
  {
   "cell_type": "code",
   "execution_count": 7,
   "metadata": {
    "id": "mYx_jNJ9qa5t"
   },
   "outputs": [],
   "source": [
    "staff_data = pd.read_csv('./data/fall2024_python_staff.csv')"
   ]
  },
  {
   "cell_type": "markdown",
   "metadata": {
    "id": "p5aNDzHa5kH0"
   },
   "source": [
    "Let's say that we need to use Kallee's data in a function we are writing. We will first isolate Kallee's data using data frame filtering based on first name."
   ]
  },
  {
   "cell_type": "code",
   "execution_count": 8,
   "metadata": {
    "colab": {
     "base_uri": "https://localhost:8080/",
     "height": 109
    },
    "id": "n7yPtCqtqa5t",
    "outputId": "0f57dfc2-5dd3-45f2-cd4e-2e192973165b"
   },
   "outputs": [
    {
     "data": {
      "text/html": [
       "<div>\n",
       "<style scoped>\n",
       "    .dataframe tbody tr th:only-of-type {\n",
       "        vertical-align: middle;\n",
       "    }\n",
       "\n",
       "    .dataframe tbody tr th {\n",
       "        vertical-align: top;\n",
       "    }\n",
       "\n",
       "    .dataframe thead th {\n",
       "        text-align: right;\n",
       "    }\n",
       "</style>\n",
       "<table border=\"1\" class=\"dataframe\">\n",
       "  <thead>\n",
       "    <tr style=\"text-align: right;\">\n",
       "      <th></th>\n",
       "      <th>first_name</th>\n",
       "      <th>last_name</th>\n",
       "      <th>major</th>\n",
       "      <th>year</th>\n",
       "      <th>graduated</th>\n",
       "      <th>school</th>\n",
       "      <th>favorite_number</th>\n",
       "    </tr>\n",
       "  </thead>\n",
       "  <tbody>\n",
       "    <tr>\n",
       "      <th>0</th>\n",
       "      <td>Kallee</td>\n",
       "      <td>Gallant</td>\n",
       "      <td>physics</td>\n",
       "      <td>NaN</td>\n",
       "      <td>True</td>\n",
       "      <td>Columbia</td>\n",
       "      <td>9</td>\n",
       "    </tr>\n",
       "  </tbody>\n",
       "</table>\n",
       "</div>"
      ],
      "text/plain": [
       "  first_name last_name    major year  graduated    school  favorite_number\n",
       "0     Kallee   Gallant  physics  NaN       True  Columbia                9"
      ]
     },
     "metadata": {},
     "output_type": "display_data"
    }
   ],
   "source": [
    "# example to retrieve Kallee's information\n",
    "kallee_data = staff_data[staff_data.first_name == \"Kallee\"]\n",
    "display(kallee_data)"
   ]
  },
  {
   "cell_type": "markdown",
   "metadata": {
    "id": "07CjQ-wF6qiL"
   },
   "source": [
    "Now let's try to combine two different conditions. Here we want to find staff members who have graduated and have an even favorite number."
   ]
  },
  {
   "cell_type": "code",
   "execution_count": 9,
   "metadata": {
    "colab": {
     "base_uri": "https://localhost:8080/",
     "height": 343
    },
    "id": "o9doQi5Nqa5t",
    "outputId": "2d4b5350-7d2c-4ccb-8cb6-587a25bea35d"
   },
   "outputs": [
    {
     "data": {
      "text/html": [
       "<div>\n",
       "<style scoped>\n",
       "    .dataframe tbody tr th:only-of-type {\n",
       "        vertical-align: middle;\n",
       "    }\n",
       "\n",
       "    .dataframe tbody tr th {\n",
       "        vertical-align: top;\n",
       "    }\n",
       "\n",
       "    .dataframe thead th {\n",
       "        text-align: right;\n",
       "    }\n",
       "</style>\n",
       "<table border=\"1\" class=\"dataframe\">\n",
       "  <thead>\n",
       "    <tr style=\"text-align: right;\">\n",
       "      <th></th>\n",
       "      <th>first_name</th>\n",
       "      <th>last_name</th>\n",
       "      <th>major</th>\n",
       "      <th>year</th>\n",
       "      <th>graduated</th>\n",
       "      <th>school</th>\n",
       "      <th>favorite_number</th>\n",
       "    </tr>\n",
       "  </thead>\n",
       "  <tbody>\n",
       "    <tr>\n",
       "      <th>4</th>\n",
       "      <td>Silas</td>\n",
       "      <td>Pillsbury</td>\n",
       "      <td>philosophy</td>\n",
       "      <td>NaN</td>\n",
       "      <td>True</td>\n",
       "      <td>St. Johns College</td>\n",
       "      <td>6</td>\n",
       "    </tr>\n",
       "  </tbody>\n",
       "</table>\n",
       "</div>"
      ],
      "text/plain": [
       "  first_name  last_name       major year  graduated             school  \\\n",
       "4      Silas  Pillsbury  philosophy  NaN       True  St. Johns College   \n",
       "\n",
       "   favorite_number  \n",
       "4                6  "
      ]
     },
     "execution_count": 9,
     "metadata": {},
     "output_type": "execute_result"
    }
   ],
   "source": [
    "# example to filter on multiple conditions\n",
    "# is_graduated is a list of booleans\n",
    "# A value at a specified index n is true if the nth person graduated\n",
    "is_graduated = (staff_data.graduated)\n",
    "fav_num_even = (staff_data.favorite_number % 2 == 0)\n",
    "\n",
    "staff_data[is_graduated & fav_num_even]"
   ]
  },
  {
   "cell_type": "markdown",
   "metadata": {
    "id": "IZgIuyy97hyV"
   },
   "source": [
    "Let's say that we have represented the menu at our favorite restaurant in a csv file:"
   ]
  },
  {
   "cell_type": "code",
   "execution_count": 10,
   "metadata": {
    "colab": {
     "base_uri": "https://localhost:8080/",
     "height": 269
    },
    "id": "uJowMzpI7hFE",
    "outputId": "8ae4c322-9753-499f-8138-f0d920c8d8d7"
   },
   "outputs": [
    {
     "data": {
      "text/html": [
       "<div>\n",
       "<style scoped>\n",
       "    .dataframe tbody tr th:only-of-type {\n",
       "        vertical-align: middle;\n",
       "    }\n",
       "\n",
       "    .dataframe tbody tr th {\n",
       "        vertical-align: top;\n",
       "    }\n",
       "\n",
       "    .dataframe thead th {\n",
       "        text-align: right;\n",
       "    }\n",
       "</style>\n",
       "<table border=\"1\" class=\"dataframe\">\n",
       "  <thead>\n",
       "    <tr style=\"text-align: right;\">\n",
       "      <th></th>\n",
       "      <th>item</th>\n",
       "      <th>calories</th>\n",
       "      <th>price</th>\n",
       "      <th>vegetarian</th>\n",
       "      <th>seasonal</th>\n",
       "    </tr>\n",
       "  </thead>\n",
       "  <tbody>\n",
       "    <tr>\n",
       "      <th>0</th>\n",
       "      <td>Chicken Alfredo</td>\n",
       "      <td>1200</td>\n",
       "      <td>15.99</td>\n",
       "      <td>False</td>\n",
       "      <td>False</td>\n",
       "    </tr>\n",
       "    <tr>\n",
       "      <th>1</th>\n",
       "      <td>Pumpkin Risotto</td>\n",
       "      <td>800</td>\n",
       "      <td>18.99</td>\n",
       "      <td>True</td>\n",
       "      <td>True</td>\n",
       "    </tr>\n",
       "    <tr>\n",
       "      <th>2</th>\n",
       "      <td>Margherita Pizza</td>\n",
       "      <td>1500</td>\n",
       "      <td>10.99</td>\n",
       "      <td>True</td>\n",
       "      <td>False</td>\n",
       "    </tr>\n",
       "    <tr>\n",
       "      <th>3</th>\n",
       "      <td>House Potato Salad</td>\n",
       "      <td>600</td>\n",
       "      <td>7.49</td>\n",
       "      <td>False</td>\n",
       "      <td>False</td>\n",
       "    </tr>\n",
       "    <tr>\n",
       "      <th>4</th>\n",
       "      <td>Carnitas Burrito</td>\n",
       "      <td>1300</td>\n",
       "      <td>13.99</td>\n",
       "      <td>False</td>\n",
       "      <td>False</td>\n",
       "    </tr>\n",
       "    <tr>\n",
       "      <th>5</th>\n",
       "      <td>Lentil Soup</td>\n",
       "      <td>250</td>\n",
       "      <td>5.49</td>\n",
       "      <td>True</td>\n",
       "      <td>False</td>\n",
       "    </tr>\n",
       "    <tr>\n",
       "      <th>6</th>\n",
       "      <td>Texas Toast</td>\n",
       "      <td>600</td>\n",
       "      <td>3.99</td>\n",
       "      <td>True</td>\n",
       "      <td>False</td>\n",
       "    </tr>\n",
       "  </tbody>\n",
       "</table>\n",
       "</div>"
      ],
      "text/plain": [
       "                 item  calories  price  vegetarian  seasonal\n",
       "0     Chicken Alfredo      1200  15.99       False     False\n",
       "1     Pumpkin Risotto       800  18.99        True      True\n",
       "2    Margherita Pizza      1500  10.99        True     False\n",
       "3  House Potato Salad       600   7.49       False     False\n",
       "4    Carnitas Burrito      1300  13.99       False     False\n",
       "5         Lentil Soup       250   5.49        True     False\n",
       "6         Texas Toast       600   3.99        True     False"
      ]
     },
     "execution_count": 10,
     "metadata": {},
     "output_type": "execute_result"
    }
   ],
   "source": [
    "menu = pd.read_csv('./data/menu.csv')\n",
    "menu"
   ]
  },
  {
   "cell_type": "markdown",
   "metadata": {
    "id": "t6ratKDd7wuS"
   },
   "source": [
    "### Q.4 What are the three highest calorie foods on this restaurant's menu?"
   ]
  },
  {
   "cell_type": "code",
   "execution_count": 11,
   "metadata": {
    "colab": {
     "base_uri": "https://localhost:8080/",
     "height": 269
    },
    "id": "vP4TURhI7-c_",
    "outputId": "077c1384-62b6-40fc-c592-1b13f32c35c9"
   },
   "outputs": [],
   "source": [
    "# YOUR CODE HERE\n"
   ]
  },
  {
   "cell_type": "markdown",
   "metadata": {
    "id": "U_k4m2xD_lTL"
   },
   "source": [
    "### A.4 YOUR ANSWER HERE"
   ]
  },
  {
   "cell_type": "markdown",
   "metadata": {
    "id": "DPTZ8U1W8wbB"
   },
   "source": [
    "### Q.5 What vegetarian items have less than 1000 calories and cost less than $15?"
   ]
  },
  {
   "cell_type": "code",
   "execution_count": 12,
   "metadata": {
    "colab": {
     "base_uri": "https://localhost:8080/",
     "height": 112
    },
    "id": "0ntv8oqB9DSQ",
    "outputId": "15cdcc32-1932-4336-c778-555314e51226"
   },
   "outputs": [],
   "source": [
    "# YOUR CODE HERE\n"
   ]
  },
  {
   "cell_type": "markdown",
   "metadata": {
    "id": "DYqlaAqx_mrS"
   },
   "source": [
    "### A.5 YOUR ANSWER HERE"
   ]
  }
 ],
 "metadata": {
  "colab": {
   "provenance": []
  },
  "kernelspec": {
   "display_name": "Python 3",
   "language": "python",
   "name": "python3"
  },
  "language_info": {
   "codemirror_mode": {
    "name": "ipython",
    "version": 3
   },
   "file_extension": ".py",
   "mimetype": "text/x-python",
   "name": "python",
   "nbconvert_exporter": "python",
   "pygments_lexer": "ipython3",
   "version": "3.10.11"
  }
 },
 "nbformat": 4,
 "nbformat_minor": 0
}
